{
 "cells": [
  {
   "cell_type": "markdown",
   "metadata": {},
   "source": [
    "## Analysing model confusion matrices\n",
    "\n",
    "This notebook reproduces the model-human confusion matrix correlation analyses from the section _Depth, not recurrence, makes model mistakes more human-like_. Model confusion matrices are built and correlated with that of humans."
   ]
  },
  {
   "cell_type": "code",
   "execution_count": 10,
   "metadata": {},
   "outputs": [],
   "source": [
    "# General package imports\n",
    "import numpy as np\n",
    "import pandas as pd\n",
    "import matplotlib.pyplot as plt\n",
    "import os, json\n",
    "import scipy\n",
    "from scipy.stats import sem\n",
    "from matplotlib.lines import Line2D"
   ]
  },
  {
   "cell_type": "code",
   "execution_count": 5,
   "metadata": {},
   "outputs": [],
   "source": [
    "# Import some useful lists\n",
    "external_list_file = '../data/external/lists.json'\n",
    "\n",
    "# Read the json lists from the external list file\n",
    "lists = json.load(open(external_list_file))\n",
    "\n",
    "# Extract the relevant lists from the data\n",
    "tasks = lists['tasks']\n",
    "task_difficulty = lists['task_difficulty']\n",
    "models = lists['models']\n",
    "model_sizes = lists['model_sizes']\n",
    "model_names = lists['model_names']\n",
    "model_names_size_ordered = lists['model_names_size_ordered']\n",
    "model_palette = lists['model_palette']\n",
    "model_architectures = lists['model_architectures']"
   ]
  },
  {
   "cell_type": "markdown",
   "metadata": {},
   "source": [
    "Define a function to extract a confidence interval range, to return a star pattern from a p-value, and to remove the diagonal from & flatten a matrix."
   ]
  },
  {
   "cell_type": "code",
   "execution_count": 6,
   "metadata": {},
   "outputs": [],
   "source": [
    "def get_CI_range(data, confidence=0.95):\n",
    "  '''\n",
    "  Output:\n",
    "    Difference between the mean and the lower boundary of the 95% CI around the mean.\n",
    "  '''\n",
    "  confidence_interval = scipy.stats.norm.interval(\n",
    "    alpha=confidence,\n",
    "    loc=np.mean(data),\n",
    "    scale=scipy.stats.sem(data)\n",
    "  )\n",
    "  \n",
    "  interval = np.mean(data) - confidence_interval[0]\n",
    "  \n",
    "  return interval\n",
    "\n",
    "def p_to_star(pvalue):\n",
    "    '''Takes a p value and returns the corresponding significance stars.'''\n",
    "    if pvalue <= 0.0001:\n",
    "        return \"****\"\n",
    "    elif pvalue <= 0.001:\n",
    "        return \"***\"\n",
    "    elif pvalue <= 0.01:\n",
    "        return \"**\"\n",
    "    elif pvalue <= 0.05:\n",
    "        return \"*\"\n",
    "    return \"ns\"\n",
    "\n",
    "def remove_diag_flatten(matrix):\n",
    "    '''\n",
    "    Remove the diagonal of a matrix and return it flattened.\n",
    "    '''\n",
    "    return matrix[~(np.identity(matrix.shape[0], dtype=bool))].ravel()"
   ]
  },
  {
   "cell_type": "markdown",
   "metadata": {},
   "source": [
    "Import the data."
   ]
  },
  {
   "cell_type": "code",
   "execution_count": 8,
   "metadata": {},
   "outputs": [],
   "source": [
    "# Import the data\n",
    "cm_data = pd.read_pickle('../data/processed/confmats.pkl')\n",
    "cm_reliability = pd.read_pickle('../data/processed/confmat_noise_ceilings.pkl')"
   ]
  },
  {
   "cell_type": "markdown",
   "metadata": {},
   "source": [
    "Parse it out."
   ]
  },
  {
   "cell_type": "code",
   "execution_count": 11,
   "metadata": {},
   "outputs": [
    {
     "name": "stderr",
     "output_type": "stream",
     "text": [
      "/var/folders/kk/bx15r39d6p9gj2bpfsdppmn80000gn/T/ipykernel_81584/4228910044.py:4: DeprecationWarning: Calling np.sum(generator) is deprecated, and in the future will give a different result. Use np.sum(np.fromiter(generator)) or the python sum builtin instead.\n",
      "  group_cm = np.sum(cm_data['participants'][s] for s in list(cm_data['participants'].keys()))\n"
     ]
    }
   ],
   "source": [
    "## Parse the data for each analysis\n",
    "\n",
    "# Add up all the participants CM to one group-level CM\n",
    "group_cm = np.sum(cm_data['participants'][s] for s in list(cm_data['participants'].keys()))\n",
    "\n",
    "# Calculate the task-wise correlation with the general human accuracy\n",
    "cm_seed_corr = [[np.corrcoef(remove_diag_flatten(cm_data[m][s]), remove_diag_flatten(group_cm))[1, 0] for s in range(20)] for m in models]\n",
    "cm_mean_corr = [np.mean(cm_seed_corr[i]) for i in range(len(models))]\n",
    "cm_sem_corr = [sem(cm_seed_corr[i]) for i in range(len(models))]\n",
    "cm_ci_corr = [get_CI_range(cm_seed_corr[i]) for i in range(len(models))]\n",
    "\n",
    "# Calculate the task-wise correlation with the no mask human accuracy\n",
    "cm_nomask_seed_corr = [[np.corrcoef(remove_diag_flatten(cm_data[m][s]), remove_diag_flatten(cm_data['no mask']))[1, 0] for s in range(20)] for m in models]\n",
    "cm_nomask_mean_corr = [np.mean(cm_nomask_seed_corr[i]) for i in range(len(models))]\n",
    "cm_nomask_sem_corr = [sem(cm_nomask_seed_corr[i]) for i in range(len(models))]\n",
    "cm_nomask_ci_corr = [get_CI_range(cm_nomask_seed_corr[i]) for i in range(len(models))]\n",
    "\n",
    "# Calculate the task-wise correlation with the mask human accuracy\n",
    "cm_mask_seed_corr = [[np.corrcoef(remove_diag_flatten(cm_data[m][s]), remove_diag_flatten(cm_data['mask']))[1, 0] for s in range(20)] for m in models]\n",
    "cm_mask_mean_corr = [np.mean(cm_mask_seed_corr[i]) for i in range(len(models))]\n",
    "cm_mask_sem_corr = [sem(cm_mask_seed_corr[i]) for i in range(len(models))]\n",
    "cm_mask_ci_corr = [get_CI_range(cm_mask_seed_corr[i]) for i in range(len(models))]\n",
    "\n",
    "# Merge eveything in a df to re-order it later\n",
    "confmat_df = pd.DataFrame({\n",
    "    'model': models,\n",
    "    'size': model_sizes.values(),\n",
    "    'cm mean':cm_mean_corr, \n",
    "    'cm sem': cm_sem_corr, \n",
    "    'cm ci': cm_ci_corr, \n",
    "    'cm no mask mean': cm_nomask_mean_corr, \n",
    "    'cm no mask sem': cm_nomask_sem_corr, \n",
    "    'cm no mask ci': cm_nomask_ci_corr, \n",
    "    'cm mask mean': cm_mask_mean_corr, \n",
    "    'cm mask sem': cm_mask_sem_corr, \n",
    "    'cm mask ci': cm_mask_ci_corr, \n",
    "})"
   ]
  },
  {
   "cell_type": "markdown",
   "metadata": {},
   "source": [
    "Print some results."
   ]
  },
  {
   "cell_type": "code",
   "execution_count": 14,
   "metadata": {},
   "outputs": [
    {
     "name": "stdout",
     "output_type": "stream",
     "text": [
      "Model cornet_z: overall correlation of 0.38505401378191323.\n",
      "\n",
      "Model cornet_V1_V1: overall correlation of 0.36820358825899935.\n",
      "\n",
      "Model cornet_IT_IT: overall correlation of 0.3646610312793127.\n",
      "\n",
      "Model CORnet_RT: overall correlation of 0.33618864936048876.\n",
      "\n",
      "Model TDnet: overall correlation of 0.2101023270368286.\n",
      "\n",
      "Model FBnet: overall correlation of 0.2136305627100794.\n",
      "\n",
      "Model cornet_s: overall correlation of 0.12376037179422068.\n",
      "\n",
      "Model B_net_128: overall correlation of 0.2855785583454601.\n",
      "\n",
      "Model BL_net_128: overall correlation of 0.17641149710711224.\n",
      "\n",
      "Model BT_net_128: overall correlation of 0.21090876827521857.\n",
      "\n",
      "Model BLT_net_128: overall correlation of 0.18641505331031996.\n",
      "\n",
      "Model vgg11_bn_small: overall correlation of 0.3814076199806704.\n",
      "\n",
      "Model vgg16_bn: overall correlation of 0.4508299064206945.\n",
      "\n"
     ]
    }
   ],
   "source": [
    "for i in range(len(confmat_df)):\n",
    "    print(\n",
    "        f\"Model {confmat_df['model'][i]}: overall correlation of {confmat_df['cm mean'][i]}.\\n\"\n",
    "    )"
   ]
  },
  {
   "cell_type": "markdown",
   "metadata": {},
   "source": [
    "Define some styling elements."
   ]
  },
  {
   "cell_type": "code",
   "execution_count": 15,
   "metadata": {},
   "outputs": [],
   "source": [
    "# Define some colours\n",
    "R_COLOUR = '#607A56' # One colour for recurrent models\n",
    "FF_COLOUR = 'darkGray' # Another colour for non recurrent models\n",
    "NOMASK_COLOUR = '#9FD07D' # Light green like on the poster\n",
    "MASK_COLOUR = '#2C750F' # Darker shade of that green\n",
    "EASY_COLOUR = 'white'\n",
    "HARD_COLOUR = 'black'\n",
    "legend_fontsize = 10.0 # 18 for posters\n",
    "marker_size = 3.0 # 10 for posters\n",
    "err_bar_dict={\n",
    "    'elinewidth': 2.0,  # 12 for posters\n",
    "    'capsize': 2.0,     # 4 for posters\n",
    "}"
   ]
  },
  {
   "cell_type": "markdown",
   "metadata": {},
   "source": [
    "Reproduce figure 7a and 7b."
   ]
  },
  {
   "cell_type": "code",
   "execution_count": 17,
   "metadata": {},
   "outputs": [
    {
     "data": {
      "image/png": "[encoded data removed]",
      "text/plain": [
       "<Figure size 684x396 with 2 Axes>"
      ]
     },
     "metadata": {
      "needs_background": "light"
     },
     "output_type": "display_data"
    }
   ],
   "source": [
    "# First figure: model confmat correlation, model confmat correlation x size\n",
    "fig, ax = plt.subplots(1, 2, figsize=(9.5, 5.5), gridspec_kw={'width_ratios': [2, 5]})\n",
    "\n",
    "# Create the bar plot values\n",
    "x_values = range(len(confmat_df))\n",
    "y_values = confmat_df['cm mean']\n",
    "# yerr = confmat_df['cm sem'] # to use SEM\n",
    "yerr = confmat_df['cm ci'] # to use CI\n",
    "\n",
    "# Left side of the plot - bars\n",
    "bars = ax[0].barh(\n",
    "    y=x_values,\n",
    "    width=y_values,\n",
    "    height=0.7,\n",
    "    color=[model_palette[m] for m in confmat_df['model']],\n",
    "    linewidth=0.1,\n",
    "    edgecolor='white',\n",
    "    hatch=['' if model_architectures[m]==\"recurrent\" else '////' for m in confmat_df['model']],\n",
    "    xerr = yerr,\n",
    "    error_kw=err_bar_dict\n",
    ")\n",
    "# Add noise ceiling\n",
    "ax[0].axvline(np.mean(cm_reliability['across ppts']['cm']),color='lightGray', linewidth=4.0)\n",
    "# Change the axes\n",
    "# ax[0].set_xlim(0.55, 1.0)\n",
    "ax[0].set_ylabel(None)\n",
    "ax[0].set_xlabel('CM correlation')\n",
    "ax[0].set_yticks(ticks=x_values, labels=[model_names[m] for m in confmat_df['model']])\n",
    "\n",
    "# Right part of the plot\n",
    "ax[1].set_ylabel('Size (# parameters)')\n",
    "ax[1].set_yscale('log')\n",
    "ax[1].set_xlabel('CM correlation')\n",
    "# ax[1].set_ylim(0.59, 0.78)\n",
    "ax[1].set_xticks(ticks=ax[1].get_xticks()[1:])\n",
    "# Make the scatter plot\n",
    "ax[1].scatter(\n",
    "    y = confmat_df['size'],\n",
    "    x = y_values,\n",
    "    color=[model_palette[m] if model_architectures[m]==\"recurrent\" else 'white' for m in confmat_df['model']],\n",
    "    edgecolor=[model_palette[m] for m in confmat_df['model']],\n",
    "    linewidth=3.0,\n",
    "    s = marker_size*20\n",
    ")\n",
    "# Adjust the distance between plots\n",
    "plt.subplots_adjust(wspace=0.3)"
   ]
  },
  {
   "cell_type": "markdown",
   "metadata": {},
   "source": [
    "Reproduce figure 7c."
   ]
  },
  {
   "cell_type": "code",
   "execution_count": 18,
   "metadata": {},
   "outputs": [
    {
     "data": {
      "text/plain": [
       "Text(0.5, 1.0, 'Masked trials')"
      ]
     },
     "execution_count": 18,
     "metadata": {},
     "output_type": "execute_result"
    },
    {
     "data": {
      "image/png": "[encoded data removed]",
      "text/plain": [
       "<Figure size 612x144 with 2 Axes>"
      ]
     },
     "metadata": {
      "needs_background": "light"
     },
     "output_type": "display_data"
    }
   ],
   "source": [
    "## Make two bar plots of average consistency, with and without mask\n",
    "\n",
    "# Make the two plots next to one another\n",
    "fig, ax = plt.subplots(1, 2, figsize=(8.5, 2.0))\n",
    "bar_width = 0.6\n",
    "\n",
    "# Left side of the plot - easy bars\n",
    "ax[0].bar(x=range(len(confmat_df)), height=confmat_df['cm no mask mean'], width=bar_width,\n",
    "          color=NOMASK_COLOUR, label='No mask', yerr = confmat_df['cm no mask ci'],\n",
    "               error_kw= err_bar_dict, zorder=2)\n",
    "# Add noise ceiling\n",
    "ax[0].axhline(np.mean(cm_reliability['across ppts']['cm no mask']),color='lightGray', linewidth=4.0, zorder=0)\n",
    "# Change the axes\n",
    "ax[0].set_ylim(0.0, 0.5)\n",
    "ax[0].set_yticks(ticks=ax[0].get_yticks()[1:])\n",
    "ax[0].set_ylabel('CM correlation')\n",
    "ax[0].set_xticks(range(len(confmat_df)), labels=[model_names[m] for m in confmat_df['model']], rotation = 90)\n",
    "# Add a title\n",
    "ax[0].set_title('Unmasked trials')\n",
    "\n",
    "# Right side of the plot - challenging bars\n",
    "ax[1].bar(x=range(len(confmat_df)), height=confmat_df['cm mask mean'], width=bar_width, \n",
    "          color=MASK_COLOUR, label='Mask', yerr = confmat_df['cm mask ci'],\n",
    "               error_kw= err_bar_dict, zorder=2)\n",
    "# Add noise ceiling\n",
    "ax[1].axhline(np.mean(cm_reliability['across ppts']['cm mask']),color='lightGray', linewidth=4.0, zorder=0)\n",
    "# Change the axes\n",
    "ax[1].set_ylim(0.0, 0.5)\n",
    "ax[1].set_yticks(ticks=ax[1].get_yticks()[1:])\n",
    "ax[1].set_xticks(range(len(confmat_df)), labels=[model_names[m] for m in confmat_df['model']], rotation = 90)\n",
    "# Add a title\n",
    "ax[1].set_title('Masked trials')"
   ]
  }
 ],
 "metadata": {
  "kernelspec": {
   "display_name": "Python 3",
   "language": "python",
   "name": "python3"
  },
  "language_info": {
   "codemirror_mode": {
    "name": "ipython",
    "version": 3
   },
   "file_extension": ".py",
   "mimetype": "text/x-python",
   "name": "python",
   "nbconvert_exporter": "python",
   "pygments_lexer": "ipython3",
   "version": "3.10.5"
  }
 },
 "nbformat": 4,
 "nbformat_minor": 2
}
