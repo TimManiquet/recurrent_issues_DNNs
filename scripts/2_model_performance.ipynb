{
 "cells": [
  {
   "cell_type": "markdown",
   "metadata": {},
   "source": [
    "## Analysing model performance\n",
    "\n",
    "This notebook reproduces the model performance analysis from the section _Model size drives average performance_. Model average performances are calculated and correlated to model size."
   ]
  },
  {
   "cell_type": "code",
   "execution_count": 1,
   "metadata": {},
   "outputs": [],
   "source": [
    "# General imports\n",
    "import matplotlib.pyplot as plt\n",
    "import pandas as pd\n",
    "import numpy as np\n",
    "import scipy\n",
    "from scipy.stats import pearsonr, sem\n",
    "import json"
   ]
  },
  {
   "cell_type": "code",
   "execution_count": 2,
   "metadata": {},
   "outputs": [],
   "source": [
    "# Import some useful lists\n",
    "external_list_file = '../data/external/lists.json'\n",
    "\n",
    "# Read the json lists from the external list file\n",
    "lists = json.load(open(external_list_file))\n",
    "\n",
    "# Extract the relevant lists from the data\n",
    "tasks = lists['tasks']\n",
    "task_difficulty = lists['task_difficulty']\n",
    "models = lists['models']\n",
    "model_sizes = lists['model_sizes']\n",
    "model_names = lists['model_names']\n",
    "model_names_size_ordered = lists['model_names_size_ordered']\n",
    "model_palette = lists['model_palette']\n",
    "model_architectures = lists['model_architectures']"
   ]
  },
  {
   "cell_type": "markdown",
   "metadata": {},
   "source": [
    "Define a function to extract a CI range."
   ]
  },
  {
   "cell_type": "code",
   "execution_count": 5,
   "metadata": {},
   "outputs": [],
   "source": [
    "def get_CI_range(data, confidence=0.95):\n",
    "  '''\n",
    "  Output:\n",
    "    Difference between the mean and the lower boundary of the 95% CI around the mean.\n",
    "  '''\n",
    "  confidence_interval = scipy.stats.norm.interval(\n",
    "    confidence=confidence,\n",
    "    loc=np.mean(data),\n",
    "    scale=scipy.stats.sem(data)\n",
    "  )\n",
    "  \n",
    "  interval = np.mean(data) - confidence_interval[0]\n",
    "  \n",
    "  return interval"
   ]
  },
  {
   "cell_type": "markdown",
   "metadata": {},
   "source": [
    "Import the data and aggregate it as required."
   ]
  },
  {
   "cell_type": "code",
   "execution_count": 6,
   "metadata": {},
   "outputs": [],
   "source": [
    "# Import the data\n",
    "perf_data = pd.read_pickle('../data/processed/perf_vectors.pkl')\n",
    "\n",
    "# Extract average performance data\n",
    "model_avg_seed = [[np.mean(perf_data[m][s]) for s in range(20)] for m in models]\n",
    "models_avg = [np.mean(model_avg_seed[m]) for m in range(len(models))]\n",
    "models_sem_seed = [sem(model_avg_seed[m]) for m in range(len(models))]\n",
    "models_ci_seed = [get_CI_range(model_avg_seed[m]) for m in range(len(models))]\n",
    "# Make an average performance data frame\n",
    "avg_perf_df = pd.DataFrame({\n",
    "    'model': models,\n",
    "    'size': model_sizes.values(),\n",
    "    'model_avg_performance': models_avg,\n",
    "    'model_sem_seed': models_sem_seed,\n",
    "    'model_ci_seed': models_ci_seed,\n",
    "})\n",
    "\n",
    "# Make a task-wise average performance dictionary\n",
    "task_perf = {\n",
    "    m: {\n",
    "        t: [perf_data[m][s][i] for s in range(20)]\n",
    "    for i, t in enumerate(tasks)\n",
    "    }\n",
    "    for m in models\n",
    "}\n",
    "\n",
    "# Make an easy v challenging task aggregation\n",
    "task_difficulty_perf = {\n",
    "    m: {\n",
    "        'easy': [np.mean(task_perf[m][t]) for t in tasks if task_difficulty[t]=='easy'],\n",
    "        'challenging': [np.mean(task_perf[m][t]) for t in tasks if task_difficulty[t]=='hard']\n",
    "    }\n",
    "    for m in models\n",
    "}\n",
    "\n",
    "# Make an average per task of model performance\n",
    "avg_task_perf = {\n",
    "    m: {\n",
    "        t: {\n",
    "            'mean': np.mean([perf_data[m][s][i] for s in range(20)]),\n",
    "            'sem': sem([perf_data[m][s][i] for s in range(20)]),\n",
    "            'ci': get_CI_range([perf_data[m][s][i] for s in range(20)])\n",
    "        }\n",
    "    for i, t in enumerate(tasks)\n",
    "    }\n",
    "    for m in models\n",
    "}"
   ]
  },
  {
   "cell_type": "markdown",
   "metadata": {},
   "source": [
    "Fetch the consistency results to use as noise ceilings."
   ]
  },
  {
   "cell_type": "code",
   "execution_count": 7,
   "metadata": {},
   "outputs": [],
   "source": [
    "# Extract consistency data\n",
    "consistency_data = pd.read_pickle('../data/processed/perf_vectors.pkl')\n",
    "\n",
    "# Extract the consistency across seeds\n",
    "acc_seed_consistencies = [[np.corrcoef([task_perf[m][t][s] for t in tasks], consistency_data['accuracy'])[1, 0] for s in range(20)] for m in models]\n",
    "# Make a grand average consistency per model\n",
    "acc_mean_consistencies = [np.mean(acc_seed_consistencies[i]) for i in range(len(models))]\n",
    "\n",
    "# Repeat the same operations with and without masking\n",
    "acc_nomask_seed_consistencies = [[np.corrcoef([task_perf[m][t][s] for t in tasks], consistency_data['no mask accuracy'])[1, 0] for s in range(20)] for m in models]\n",
    "acc_nomask_mean_consistencies = [np.mean(acc_nomask_seed_consistencies[i]) for i in range(len(models))]\n",
    "acc_mask_seed_consistencies = [[np.corrcoef([task_perf[m][t][s] for t in tasks], consistency_data['mask accuracy'])[1, 0] for s in range(20)] for m in models]\n",
    "acc_mask_mean_consistencies = [np.mean(acc_mask_seed_consistencies[i]) for i in range(len(models))]"
   ]
  },
  {
   "cell_type": "markdown",
   "metadata": {},
   "source": [
    "Calculate the correlations between model performance and size."
   ]
  },
  {
   "cell_type": "code",
   "execution_count": 8,
   "metadata": {},
   "outputs": [],
   "source": [
    "## Calculate correlations\n",
    "\n",
    "# Correlate model performance x size\n",
    "size_perf_corr = {\n",
    "    'all': pearsonr(\n",
    "        list(model_sizes.values()),\n",
    "        [avg_perf_df.loc[avg_perf_df['model']==m, 'model_avg_performance'].values[0] for m in avg_perf_df['model']]\n",
    "        ),\n",
    "    'easy': pearsonr(\n",
    "        list(model_sizes.values()),\n",
    "        [np.mean(task_difficulty_perf[m]['easy']) for m in list(model_names_size_ordered.keys())]\n",
    "        ),\n",
    "    'challenging': pearsonr(\n",
    "        list(model_sizes.values()),\n",
    "        [np.mean(task_difficulty_perf[m]['challenging']) for m in list(model_names_size_ordered.keys())]\n",
    "        )\n",
    "}\n",
    "\n",
    "# Correlate model consistency x size\n",
    "size_cons_corr = {\n",
    "    'all': pearsonr(\n",
    "        list(model_sizes.values()),\n",
    "        acc_mean_consistencies\n",
    "        ),\n",
    "    'no mask': pearsonr(\n",
    "        list(model_sizes.values()),\n",
    "        acc_nomask_mean_consistencies\n",
    "        ),\n",
    "    'mask': pearsonr(\n",
    "        list(model_sizes.values()),\n",
    "        acc_mask_mean_consistencies\n",
    "        )\n",
    "}"
   ]
  },
  {
   "cell_type": "markdown",
   "metadata": {},
   "source": [
    "Parse out the data from easy and challenging tasks."
   ]
  },
  {
   "cell_type": "code",
   "execution_count": 9,
   "metadata": {},
   "outputs": [],
   "source": [
    "# Group the data by 'group' and calculate the mean and SEM\n",
    "easy_mean = [np.mean(task_difficulty_perf[m]['easy']) for m in list(model_names_size_ordered.keys())]\n",
    "hard_mean = [np.mean(task_difficulty_perf[m]['challenging']) for m in list(model_names_size_ordered.keys())]\n",
    "easy_sem = [sem(task_difficulty_perf[m]['easy']) for m in list(model_names_size_ordered.keys())]\n",
    "easy_ci = [get_CI_range(task_difficulty_perf[m]['easy']) for m in list(model_names_size_ordered.keys())]\n",
    "hard_sem = [sem(task_difficulty_perf[m]['challenging']) for m in list(model_names_size_ordered.keys())]\n",
    "hard_ci = [get_CI_range(task_difficulty_perf[m]['challenging']) for m in list(model_names_size_ordered.keys())]"
   ]
  },
  {
   "cell_type": "markdown",
   "metadata": {},
   "source": [
    "Define some styling elements."
   ]
  },
  {
   "cell_type": "code",
   "execution_count": 10,
   "metadata": {},
   "outputs": [],
   "source": [
    "# Define some styling elements\n",
    "R_COLOUR = '#607A56' # One colour for recurrent models\n",
    "FF_COLOUR = 'darkGray' # Another colour for non recurrent models\n",
    "easy_colour = 'white'\n",
    "hard_colour = 'black'\n",
    "legend_fontsize = 10.0 # 18 for posters\n",
    "marker_size = 3.0 # 10 for posters\n",
    "err_bar_dict={\n",
    "    'linewidth': 2.0,  # 12 for posters\n",
    "    'capsize': 2.0,     # 4 for posters\n",
    "}\n",
    "# A colour for human results\n",
    "hum_col = '#AADDFF'"
   ]
  },
  {
   "cell_type": "markdown",
   "metadata": {},
   "source": [
    "Extract human data."
   ]
  },
  {
   "cell_type": "code",
   "execution_count": 11,
   "metadata": {},
   "outputs": [],
   "source": [
    "# Human performance-ordered task \n",
    "human_data = pd.read_pickle('../data/processed/human_bh_results.pkl')['data']\n",
    "ordered_tasks = human_data['task']\n",
    "\n",
    "# Extract human average performance\n",
    "hum_avg_perf = human_data['average accuracy'].mean()\n",
    "hum_avg_perf_nomask = human_data['no mask accuracy'].mean()\n",
    "hum_avg_perf_mask = human_data['mask accuracy'].mean()"
   ]
  },
  {
   "cell_type": "markdown",
   "metadata": {},
   "source": [
    "Reproduce figure 4a and 4B."
   ]
  },
  {
   "cell_type": "code",
   "execution_count": 12,
   "metadata": {},
   "outputs": [
    {
     "data": {
      "image/png": "[encoded data removed]",
      "text/plain": [
       "<Figure size 950x550 with 2 Axes>"
      ]
     },
     "metadata": {},
     "output_type": "display_data"
    }
   ],
   "source": [
    "# Plot model performance x size\n",
    "fig, ax = plt.subplots(1, 2, figsize=(9.5, 5.5), gridspec_kw={'width_ratios': [2, 5]})\n",
    "\n",
    "# Create the bar plot values\n",
    "x_values = range(len(avg_perf_df))\n",
    "y_values = [avg_perf_df.loc[avg_perf_df['model']==m, 'model_avg_performance'].values[0] for m in avg_perf_df['model']]\n",
    "# yerr = [(aovavg_perf_df.loc[aovavg_perf_df['model']==m, 'acc']).sem() for m in models] # if choose SEM\n",
    "yerr = [avg_perf_df.loc[avg_perf_df['model']==m, 'model_ci_seed'].values[0] for m in avg_perf_df['model']] # if choose CI\n",
    "# Prepare a bar effect to set the edgecolor inwards\n",
    "# Left side of the plot - bars\n",
    "bars = ax[0].barh(\n",
    "    y=x_values,\n",
    "    width=y_values,\n",
    "    height=0.7,\n",
    "    color=[model_palette[m] for m in avg_perf_df['model']],\n",
    "    linewidth=0.1,\n",
    "    edgecolor='white',\n",
    "    hatch=['' if model_architectures[m]==\"recurrent\" else '////' for m in avg_perf_df['model']],\n",
    "    xerr = yerr,\n",
    "    error_kw=err_bar_dict\n",
    ")\n",
    "# Add noise ceiling - human average performance\n",
    "ax[0].axvline(hum_avg_perf,color=hum_col, linewidth=4.0)\n",
    "# Change the axes\n",
    "ax[0].set_xlim(0.55, 0.9)\n",
    "ax[0].set_ylabel(None)\n",
    "ax[0].set_xlabel('Accuracy')\n",
    "ax[0].set_yticks(ticks=x_values, labels=[model_names[m] for m in avg_perf_df['model']])\n",
    "ax[0].set_xticks(ticks=ax[0].get_xticks()[1:])\n",
    "\n",
    "# Right part of the plot\n",
    "ax[1].set_ylabel('Size (# parameters)')\n",
    "ax[1].set_xticks(ticks=ax[1].get_xticks()[1:])\n",
    "ax[1].set_yscale('log')\n",
    "ax[1].set_xlabel('Accuracy')\n",
    "ax[1].set_xlim(0.58, 0.82)\n",
    "# Make the scatter plot\n",
    "ax[1].scatter(\n",
    "    y = avg_perf_df['size'],\n",
    "    x = y_values,\n",
    "    color=[model_palette[m] if model_architectures[m]==\"recurrent\" else 'white' for m in avg_perf_df['model']],\n",
    "    edgecolor=[model_palette[m] for m in avg_perf_df['model']],\n",
    "    linewidth=3.0,\n",
    "    s = marker_size*20\n",
    ")\n",
    "# Adjust the distance between plots\n",
    "plt.subplots_adjust(wspace=0.3)"
   ]
  },
  {
   "cell_type": "markdown",
   "metadata": {},
   "source": [
    "Reproduce figure 4c."
   ]
  },
  {
   "cell_type": "code",
   "execution_count": 13,
   "metadata": {},
   "outputs": [
    {
     "data": {
      "text/plain": [
       "Text(0.5, 1.0, 'Hard tasks')"
      ]
     },
     "execution_count": 13,
     "metadata": {},
     "output_type": "execute_result"
    },
    {
     "data": {
      "image/png": "[encoded data removed]",
      "text/plain": [
       "<Figure size 850x200 with 2 Axes>"
      ]
     },
     "metadata": {},
     "output_type": "display_data"
    }
   ],
   "source": [
    "# Plot model accuracy across task difficulty\n",
    "fig, ax = plt.subplots(1, 2, figsize=(8.5, 2.0))\n",
    "bar_width = 0.6\n",
    "\n",
    "# Left side of the plot - easy bars\n",
    "ax[0].bar(x=range(len(easy_mean)), height=easy_mean, width=bar_width, color='white', edgecolor='black',\n",
    "               label='Easy tasks', yerr = easy_ci,\n",
    "               error_kw= err_bar_dict, zorder=2)\n",
    "# Add noise ceiling - human average performance\n",
    "ax[0].axhline(hum_avg_perf_nomask,color=hum_col, linewidth=4.0, zorder=0)\n",
    "# Change the axes\n",
    "ax[0].set_ylim(0.2, 1.0)\n",
    "ax[0].set_yticks(ticks=ax[0].get_yticks()[1:])\n",
    "ax[0].set_ylabel('Accuracy')\n",
    "ax[0].set_xticks(range(len(easy_mean)), labels=[model_names[m] for m in avg_perf_df['model']], rotation = 90)\n",
    "ax[0].set_title('Easy tasks')\n",
    "\n",
    "# Right side of the plot - challenging bars\n",
    "ax[1].bar(x=range(len(hard_mean)), height=hard_mean, width=bar_width, color='black', edgecolor='black',\n",
    "               label='Hard tasks', yerr = hard_ci,\n",
    "               error_kw= err_bar_dict, zorder=2)\n",
    "# Add noise ceiling - human average performance\n",
    "ax[1].axhline(hum_avg_perf_mask,color=hum_col, linewidth=4.0, zorder=0)\n",
    "# Change the axes\n",
    "ax[1].set_ylim(0.2, 1.0)\n",
    "ax[1].set_xticks(range(len(hard_mean)), labels=[model_names[m] for m in avg_perf_df['model']], rotation = 90)\n",
    "# Add a title\n",
    "ax[1].set_title('Hard tasks')"
   ]
  }
 ],
 "metadata": {
  "kernelspec": {
   "display_name": "ratan-murty",
   "language": "python",
   "name": "python3"
  },
  "language_info": {
   "codemirror_mode": {
    "name": "ipython",
    "version": 3
   },
   "file_extension": ".py",
   "mimetype": "text/x-python",
   "name": "python",
   "nbconvert_exporter": "python",
   "pygments_lexer": "ipython3",
   "version": "3.10.13"
  }
 },
 "nbformat": 4,
 "nbformat_minor": 2
}
