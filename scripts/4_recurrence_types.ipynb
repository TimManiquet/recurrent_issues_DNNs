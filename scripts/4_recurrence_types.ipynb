{
 "cells": [
  {
   "cell_type": "markdown",
   "metadata": {},
   "source": [
    "## Analysing recurrence types & task performance patterns\n",
    "\n",
    "This notebook reproduces the analyses from the section _Recurrence types do not dissociate across visual manipulations_."
   ]
  },
  {
   "cell_type": "code",
   "execution_count": 16,
   "metadata": {},
   "outputs": [],
   "source": [
    "# General package imports\n",
    "import numpy as np\n",
    "import pandas as pd\n",
    "import matplotlib.pyplot as plt\n",
    "import os, json\n",
    "import scipy\n",
    "from scipy.stats import sem\n",
    "from matplotlib.lines import Line2D"
   ]
  },
  {
   "cell_type": "code",
   "execution_count": 11,
   "metadata": {},
   "outputs": [],
   "source": [
    "# Import some useful lists\n",
    "external_list_file = '../data/external/lists.json'\n",
    "\n",
    "# Read the json lists from the external list file\n",
    "lists = json.load(open(external_list_file))\n",
    "\n",
    "# Extract the relevant lists from the data\n",
    "tasks = lists['tasks']\n",
    "task_difficulty = lists['task_difficulty']\n",
    "task_names = lists['task_names']\n",
    "models = lists['models']\n",
    "model_sizes = lists['model_sizes']\n",
    "model_names = lists['model_names']\n",
    "model_names_size_ordered = lists['model_names_size_ordered']\n",
    "model_palette = lists['model_palette']"
   ]
  },
  {
   "cell_type": "markdown",
   "metadata": {},
   "source": [
    "Define functions to extra confidence interval range and a star pattern from a p-value."
   ]
  },
  {
   "cell_type": "code",
   "execution_count": 17,
   "metadata": {},
   "outputs": [],
   "source": [
    "def get_CI_range(data, confidence=0.95):\n",
    "  '''\n",
    "  Output:\n",
    "    Difference between the mean and the lower boundary of the 95% CI around the mean.\n",
    "  '''\n",
    "  confidence_interval = scipy.stats.norm.interval(\n",
    "    alpha=confidence,\n",
    "    loc=np.mean(data),\n",
    "    scale=scipy.stats.sem(data)\n",
    "  )\n",
    "  \n",
    "  interval = np.mean(data) - confidence_interval[0]\n",
    "  \n",
    "  return interval\n",
    "\n",
    "def p_to_star(pvalue):\n",
    "    '''Takes a p value and returns the corresponding significance stars.'''\n",
    "    if pvalue <= 0.0001:\n",
    "        return \"****\"\n",
    "    elif pvalue <= 0.001:\n",
    "        return \"***\"\n",
    "    elif pvalue <= 0.01:\n",
    "        return \"**\"\n",
    "    elif pvalue <= 0.05:\n",
    "        return \"*\"\n",
    "    return \"ns\"\n"
   ]
  },
  {
   "cell_type": "markdown",
   "metadata": {},
   "source": [
    "Import the data"
   ]
  },
  {
   "cell_type": "code",
   "execution_count": 18,
   "metadata": {},
   "outputs": [],
   "source": [
    "# Import the data\n",
    "perf_data = pd.read_pickle('../data/processed/perf_vectors.pkl')"
   ]
  },
  {
   "cell_type": "markdown",
   "metadata": {},
   "source": [
    "Parse it out."
   ]
  },
  {
   "cell_type": "code",
   "execution_count": 19,
   "metadata": {},
   "outputs": [],
   "source": [
    "## Parse the data for each analysis\n",
    "\n",
    "# Extract average performance data\n",
    "model_avg_seed = [[np.mean(perf_data[m][s]) for s in range(20)] for m in models]\n",
    "models_avg = [np.mean(model_avg_seed[m]) for m in range(len(models))]\n",
    "models_sem_seed = [sem(model_avg_seed[m]) for m in range(len(models))]\n",
    "models_ci_seed = [get_CI_range(model_avg_seed[m]) for m in range(len(models))]\n",
    "# Make an average performance data frame\n",
    "avg_perf_df = pd.DataFrame({\n",
    "    'model': models,\n",
    "    'size': model_sizes.values(),\n",
    "    'model_avg_performance': models_avg,\n",
    "    'model_sem_seed': models_sem_seed,\n",
    "    'model_ci_seed': models_ci_seed,\n",
    "})\n",
    "\n",
    "# Extract task-wise performance per model\n",
    "task_perf = {\n",
    "    m: {\n",
    "        t: [perf_data[m][s][i] for s in range(20)]\n",
    "    for i, t in enumerate(tasks)\n",
    "    }\n",
    "    for m in models\n",
    "}\n",
    "# Make an easy v challenging task aggregation\n",
    "task_difficulty_perf = {\n",
    "    m: {\n",
    "        'easy': [np.mean(task_perf[m][t]) for t in tasks if task_difficulty[t]=='easy'],\n",
    "        'challenging': [np.mean(task_perf[m][t]) for t in tasks if task_difficulty[t]=='hard']\n",
    "    }\n",
    "    for m in models\n",
    "}\n",
    "# Make an average per task of model performance\n",
    "avg_task_perf = {\n",
    "    m: {\n",
    "        t: {\n",
    "            'mean': np.mean([perf_data[m][s][i] for s in range(20)]),\n",
    "            'sem': sem([perf_data[m][s][i] for s in range(20)]),\n",
    "            'ci': get_CI_range([perf_data[m][s][i] for s in range(20)])\n",
    "        }\n",
    "    for i, t in enumerate(tasks)\n",
    "    }\n",
    "    for m in models\n",
    "}\n",
    "# Calculate the overall model average performance per task\n",
    "model_task_wise = np.mean([[avg_task_perf[m][t]['mean'] for t in tasks] for m in models], axis=0)"
   ]
  },
  {
   "cell_type": "markdown",
   "metadata": {},
   "source": [
    "Extract human data."
   ]
  },
  {
   "cell_type": "code",
   "execution_count": 21,
   "metadata": {},
   "outputs": [],
   "source": [
    "# Human performance-ordered task \n",
    "human_data = pd.read_pickle('../data/processed/human_bh_results.pkl')['data']\n",
    "ordered_tasks = human_data['task']\n",
    "\n",
    "# Extract human average performance\n",
    "hum_avg_perf = human_data['average accuracy'].mean()\n",
    "hum_avg_perf_nomask = human_data['no mask accuracy'].mean()\n",
    "hum_avg_perf_mask = human_data['mask accuracy'].mean()"
   ]
  },
  {
   "cell_type": "markdown",
   "metadata": {},
   "source": [
    "Define some styling elements."
   ]
  },
  {
   "cell_type": "code",
   "execution_count": 22,
   "metadata": {},
   "outputs": [],
   "source": [
    "# Define some styling elements\n",
    "R_COLOUR = '#607A56' # One colour for recurrent models\n",
    "FF_COLOUR = 'darkGray' # Another colour for non recurrent models\n",
    "easy_colour = 'white'\n",
    "hard_colour = 'black'\n",
    "legend_fontsize = 10.0 # 18 for posters\n",
    "marker_size = 3.0 # 10 for posters\n",
    "err_bar_dict={\n",
    "    'linewidth': 2.0,  # 12 for posters\n",
    "    'capsize': 2.0,     # 4 for posters\n",
    "}\n",
    "# A colour for human results\n",
    "hum_col = '#AADDFF'"
   ]
  },
  {
   "cell_type": "markdown",
   "metadata": {},
   "source": [
    "Plotting figure 6A."
   ]
  },
  {
   "cell_type": "code",
   "execution_count": 25,
   "metadata": {},
   "outputs": [
    {
     "data": {
      "text/plain": [
       "(0.1, 1.0)"
      ]
     },
     "execution_count": 25,
     "metadata": {},
     "output_type": "execute_result"
    },
    {
     "data": {
      "image/png": "[encoded data removed]",
      "text/plain": [
       "<Figure size 288x288 with 1 Axes>"
      ]
     },
     "metadata": {
      "needs_background": "light"
     },
     "output_type": "display_data"
    }
   ],
   "source": [
    "# Mark the outliers on the plot\n",
    "outliers = ['scrambling_highpass', 'occlusion_many_small_blobs_high',\n",
    "            'occlusion_many_small_partial_viewing_low',\n",
    "            'occlusion_few_large_partial_viewing_high', 'scrambling_lowpass',\n",
    "            'occlusion_many_small_partial_viewing_high']\n",
    "\n",
    "# Make the figure\n",
    "fig, ax = plt.subplots(figsize = (4.0, 4.0))\n",
    "ax.scatter(\n",
    "    x = perf_data['accuracy'],\n",
    "    y = model_task_wise,\n",
    "    color = 'gray',\n",
    "    edgecolor=['darkGray' if not t in outliers else 'black' for t in tasks],\n",
    "    linewidth=1.0,\n",
    "    s=marker_size*20,\n",
    "    clip_on=False\n",
    ")\n",
    "# Find where the outliers are in the list\n",
    "outlier_idx = [tasks.index(o) for o in outliers]\n",
    "# Extract the xy coordinates for each\n",
    "outliers_xy = [(perf_data['accuracy'][i], model_task_wise[i]) for i in outlier_idx]\n",
    "# Annotate the outliers on the plot\n",
    "for i, _ in enumerate(outliers):\n",
    "    x, y = outliers_xy[i]\n",
    "    ax.text(x+0.03, y-0.03, i+1)\n",
    "\n",
    "# Work the axes\n",
    "ax.set_xlabel('Human accuracy')\n",
    "ax.set_xlim(0.55, 1.0)\n",
    "ax.set_ylabel('Model accuracy')\n",
    "ax.set_ylim(0.1, 1.0)"
   ]
  },
  {
   "cell_type": "markdown",
   "metadata": {},
   "source": [
    "Plotting figure 6B."
   ]
  },
  {
   "cell_type": "code",
   "execution_count": null,
   "metadata": {},
   "outputs": [
    {
     "data": {
      "image/png": "[encoded data removed]",
      "text/plain": [
       "<Figure size 504x216 with 1 Axes>"
      ]
     },
     "metadata": {
      "needs_background": "light"
     },
     "output_type": "display_data"
    }
   ],
   "source": [
    "## Task-wise pointplot\n",
    "\n",
    "## Make a point plot with accuracy per model and per task\n",
    "fig, ax = plt.subplots(figsize=(7.0, 3.0))\n",
    "\n",
    "# Plot the data with error bars\n",
    "x = np.arange(len(tasks))  # the label locations\n",
    "\n",
    "for m in models:\n",
    "    y_values = [avg_task_perf[m][t]['mean'] for t in ordered_tasks]\n",
    "    yerr = [avg_task_perf[m][t]['sem'] for t in ordered_tasks]\n",
    "    ax.errorbar(x, y_values, yerr=yerr, fmt='v',\n",
    "                color=model_palette[m], label=model_names[m], markersize=marker_size+2.0)\n",
    "\n",
    "# Customize the axes\n",
    "ax.set_ylabel('Accuracy')\n",
    "ax.set_ylim(0.0, 1.0)\n",
    "# Remove the first y tick\n",
    "ax.set_yticks(ticks=ax.get_yticks()[1:])\n",
    "ax.set_xticks(x)\n",
    "# Extract task labels\n",
    "x_labels = [task_names[task] for task in ordered_tasks]\n",
    "ax.set_xticklabels(x_labels, rotation=90)\n",
    "# Draw the legend with the significance bar\n",
    "ax.legend(fontsize = legend_fontsize-2.0, bbox_to_anchor=(0.95, 1.1), loc=2, ncol=3)\n",
    "\n",
    "# Mark the outliers \n",
    "outliers = ['scrambling_highpass', 'occlusion_many_small_blobs_high',\n",
    "            'occlusion_many_small_partial_viewing_low',\n",
    "            'occlusion_few_large_partial_viewing_high', 'scrambling_lowpass',\n",
    "            'occlusion_many_small_partial_viewing_high']\n",
    "# find where the outliers are in the list\n",
    "outlier_idx = [list(ordered_tasks.values).index(o) for o in outliers]\n",
    "# Annotate the outliers on the plot\n",
    "for i, o in enumerate(outlier_idx):\n",
    "    ax.text(o, 0.03, i+1, fontsize=8.0, ha='center')"
   ]
  }
 ],
 "metadata": {
  "kernelspec": {
   "display_name": "Python 3",
   "language": "python",
   "name": "python3"
  },
  "language_info": {
   "codemirror_mode": {
    "name": "ipython",
    "version": 3
   },
   "file_extension": ".py",
   "mimetype": "text/x-python",
   "name": "python",
   "nbconvert_exporter": "python",
   "pygments_lexer": "ipython3",
   "version": "3.10.5"
  }
 },
 "nbformat": 4,
 "nbformat_minor": 2
}
