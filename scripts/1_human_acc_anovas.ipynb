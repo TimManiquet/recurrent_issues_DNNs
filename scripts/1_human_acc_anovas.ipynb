{
 "cells": [
  {
   "cell_type": "markdown",
   "metadata": {},
   "source": [
    "## Analysing human behaviour: accuracy\n",
    "\n",
    "This notebook reproduces accuracy ANOVAs from the section _Visual manipulations trigger recurrent processing_."
   ]
  },
  {
   "cell_type": "code",
   "execution_count": 2,
   "metadata": {},
   "outputs": [],
   "source": [
    "## Preamble\n",
    "\n",
    "# import packages\n",
    "import numpy as np\n",
    "import pandas as pd\n",
    "import matplotlib.pyplot as plt\n",
    "import seaborn as sns\n",
    "import statsmodels.api as sm\n",
    "from statsmodels.formula.api import ols\n",
    "from scipy.stats import pearsonr\n",
    "import scikit_posthocs as sp\n",
    "\n",
    "# define some labels & colours\n",
    "labels = ['person', 'cat', 'bird', 'tree', 'banana', 'firehydrant', 'bus', 'building']\n",
    "manipulations = {\n",
    "    'control': 'Control',\n",
    "    'clutter': 'Clutter',\n",
    "    'occlusion': 'Occlusion',\n",
    "    'scrambling': 'Phase scrambling',\n",
    "}\n",
    "mask_palette = {\n",
    "    'no mask': '#1670B0',\n",
    "    'mask': '#DA8F2B'\n",
    "}"
   ]
  },
  {
   "cell_type": "code",
   "execution_count": 3,
   "metadata": {},
   "outputs": [],
   "source": [
    "# read the data\n",
    "df = pd.read_csv('../data/human_data.csv')"
   ]
  },
  {
   "cell_type": "markdown",
   "metadata": {},
   "source": [
    "### Two-way ANOVA on accuracy\n",
    "\n",
    "Here we check whether accuracy levels significantly vary across levels of *manipulation* and *masking*."
   ]
  },
  {
   "cell_type": "code",
   "execution_count": 4,
   "metadata": {},
   "outputs": [
    {
     "name": "stdout",
     "output_type": "stream",
     "text": [
      "                           sum_sq     df           F        PR(>F)\n",
      "C(mask)                  0.109575    1.0   50.445423  6.270836e-12\n",
      "C(manipulation)          1.306737    3.0  200.529160  2.330796e-77\n",
      "C(mask):C(manipulation)  0.085209    3.0   13.075949  3.891369e-08\n",
      "Residual                 0.808039  372.0         NaN           NaN\n"
     ]
    }
   ],
   "source": [
    "# create a general anova df with aggregated accuracy per condition, masking and subject\n",
    "gen_aovdf = df.groupby(['subj', 'manipulation', 'mask'], as_index=False)['acc'].mean()\n",
    "\n",
    "# run a least square anova based on the model formula\n",
    "formula = 'acc ~ C(mask) + C(manipulation) + C(mask):C(manipulation)'\n",
    "model = ols(formula, gen_aovdf).fit()\n",
    "print(sm.stats.anova_lm(model, typ=2))"
   ]
  },
  {
   "cell_type": "markdown",
   "metadata": {},
   "source": [
    "**Post-hoc analyses**: which manipulations significantly differ from the others?"
   ]
  },
  {
   "cell_type": "code",
   "execution_count": 5,
   "metadata": {},
   "outputs": [
    {
     "name": "stdout",
     "output_type": "stream",
     "text": [
      "               occlusion       clutter       control    scrambling\n",
      "occlusion   1.000000e+00  1.371602e-19  3.598664e-25  2.000432e-16\n",
      "clutter     1.371602e-19  1.000000e+00  1.000000e+00  4.165060e-35\n",
      "control     3.598664e-25  1.000000e+00  1.000000e+00  2.803054e-41\n",
      "scrambling  2.000432e-16  4.165060e-35  2.803054e-41  1.000000e+00\n"
     ]
    }
   ],
   "source": [
    "# run posthoc tests on the general anova df with Bonferroni correction\n",
    "gen_posthoc = pd.DataFrame(sp.posthoc_ttest(gen_aovdf, val_col='acc', group_col='manipulation', p_adjust='bonferroni'))\n",
    "print(gen_posthoc)"
   ]
  },
  {
   "cell_type": "markdown",
   "metadata": {},
   "source": [
    "### Manipulation-specific two-way ANOVAs\n",
    "\n",
    "Having established an interaction effect between masking and manipulation, we look into manipulation difficulty and masking within each manipulation (_clutter_, _occlusion_, _phase scrambling_).\n",
    "\n",
    "**Clutter**: two-way ANOVA on accuracy with manipulation difficulty (_light clutter_, _heavy clutter_) and masking as factors."
   ]
  },
  {
   "cell_type": "code",
   "execution_count": 6,
   "metadata": {},
   "outputs": [
    {
     "name": "stdout",
     "output_type": "stream",
     "text": [
      "2-way ANOVA on phase clutter accuracy \n",
      "                          sum_sq     df         F    PR(>F)\n",
      "C(mask)                0.002168    1.0  1.396647  0.239181\n",
      "C(difficulty)          0.000002    1.0  0.001534  0.968815\n",
      "C(mask):C(difficulty)  0.001219    1.0  0.785174  0.377001\n",
      "Residual               0.229758  148.0       NaN       NaN\n",
      "\n",
      "Posthoc comparisons across levels of difficulty \n",
      "           heavy     light\n",
      "heavy  1.000000  0.968833\n",
      "light  0.968833  1.000000 \n",
      "\n",
      "Posthoc comparisons across levels of masking \n",
      "              mask   no mask\n",
      "mask     1.000000  0.237259\n",
      "no mask  0.237259  1.000000\n"
     ]
    }
   ],
   "source": [
    "# make the appropriate clutter-specific dataframe with collected responses\n",
    "clut_aovdf = df.loc[df['manipulation'].isin(['clutter'])].groupby(['subj', 'difficulty', 'mask'], as_index=False)['acc'].mean()\n",
    "\n",
    "# run an ordinary least squares anova on accuracy\n",
    "formula = 'acc ~ C(mask) + C(difficulty) + C(mask):C(difficulty)'\n",
    "model = ols(formula, clut_aovdf).fit()\n",
    "print('2-way ANOVA on phase clutter accuracy \\n', sm.stats.anova_lm(model, typ=2))\n",
    "\n",
    "# run posthoc tests across levels of difficulty and masking\n",
    "diff_clut_posthoc = sp.posthoc_ttest(clut_aovdf, val_col='acc', group_col='difficulty', p_adjust='bonferroni')\n",
    "mask_clut_posthoc = sp.posthoc_ttest(clut_aovdf, val_col='acc', group_col='mask', p_adjust='bonferroni')\n",
    "print('\\nPosthoc comparisons across levels of difficulty \\n', diff_clut_posthoc, '\\n\\nPosthoc comparisons across levels of masking \\n', mask_clut_posthoc)"
   ]
  },
  {
   "cell_type": "markdown",
   "metadata": {},
   "source": [
    "**Occlusion**: two-way ANOVA on accuracy with manipulation difficulty (_low occlusion_, _high occlusion_) and masking as factors."
   ]
  },
  {
   "cell_type": "code",
   "execution_count": 7,
   "metadata": {},
   "outputs": [
    {
     "name": "stdout",
     "output_type": "stream",
     "text": [
      "2-way ANOVA on occlusion accuracy \n",
      "                          sum_sq     df           F        PR(>F)\n",
      "C(mask)                0.143389    1.0   43.454107  2.151787e-10\n",
      "C(difficulty)          0.875389    1.0  265.286808  2.029752e-42\n",
      "C(mask):C(difficulty)  0.078970    1.0   23.931749  1.686126e-06\n",
      "Residual               0.923939  280.0         NaN           NaN\n",
      "\n",
      "Posthoc comparisons across levels of difficulty \n",
      "               high           low\n",
      "high  1.000000e+00  1.292702e-36\n",
      "low   1.292702e-36  1.000000e+00 \n",
      "\n",
      "Posthoc comparisons across levels of masking \n",
      "           no mask      mask\n",
      "no mask  1.000000  0.000005\n",
      "mask     0.000005  1.000000\n"
     ]
    }
   ],
   "source": [
    "# make the appropriate occlusion-specific dataframe with collected responses\n",
    "occ_aovdf = df.loc[df['manipulation'].isin(['occlusion'])].groupby(['subj', 'difficulty', 'mask'], as_index=False)['acc'].mean()\n",
    "\n",
    "# run an ordinary least squares anova on accuracy\n",
    "formula = 'acc ~ C(mask) + C(difficulty) + C(mask):C(difficulty)'\n",
    "model = ols(formula, occ_aovdf).fit()\n",
    "print('2-way ANOVA on occlusion accuracy \\n', sm.stats.anova_lm(model, typ=2))\n",
    "\n",
    "# run poshoc tests across levels of difficulty and masking\n",
    "diff_occ_posthoc = sp.posthoc_ttest(occ_aovdf, val_col='acc', group_col='difficulty', p_adjust='bonferroni')\n",
    "mask_occ_posthoc = sp.posthoc_ttest(occ_aovdf, val_col='acc', group_col='mask', p_adjust='bonferroni')\n",
    "print('\\nPosthoc comparisons across levels of difficulty \\n', diff_occ_posthoc, '\\n\\nPosthoc comparisons across levels of masking \\n', mask_occ_posthoc)"
   ]
  },
  {
   "cell_type": "markdown",
   "metadata": {},
   "source": [
    "**Phase scrambling**: two-way ANOVA on accuracy with manipulation difficulty (_low pass_, _high pass_) and masking as factors."
   ]
  },
  {
   "cell_type": "code",
   "execution_count": 8,
   "metadata": {},
   "outputs": [
    {
     "name": "stdout",
     "output_type": "stream",
     "text": [
      "2-way ANOVA on phase scrambling accuracy \n",
      "                          sum_sq     df           F        PR(>F)\n",
      "C(mask)                0.248335    1.0   45.069705  3.797249e-10\n",
      "C(difficulty)          3.694729    1.0  670.546952  7.814243e-57\n",
      "C(mask):C(difficulty)  0.186138    1.0   33.781642  3.650023e-08\n",
      "Residual               0.815483  148.0         NaN           NaN\n",
      "\n",
      "Posthoc comparisons across levels of difficulty \n",
      "               highpass       lowpass\n",
      "highpass  1.000000e+00  1.208360e-46\n",
      "lowpass   1.208360e-46  1.000000e+00 \n",
      "\n",
      "Posthoc comparisons across levels of masking \n",
      "              mask   no mask\n",
      "mask     1.000000  0.005511\n",
      "no mask  0.005511  1.000000\n"
     ]
    }
   ],
   "source": [
    "# make the appropriate phase scrambling-specific dataframe with collected responses\n",
    "scr_aovdf = df.loc[df['manipulation'].isin(['scrambling'])].groupby(['subj', 'difficulty', 'mask'], as_index=False)['acc'].mean()\n",
    "\n",
    "# run an ordinary least squares anova on accuracy\n",
    "formula = 'acc ~ C(mask) + C(difficulty) + C(mask):C(difficulty)'\n",
    "model = ols(formula, scr_aovdf).fit()\n",
    "print('2-way ANOVA on phase scrambling accuracy \\n', sm.stats.anova_lm(model, typ=2))\n",
    "\n",
    "# run posthoc tests across levels of difficulty and masking\n",
    "diff_scr_posthoc = sp.posthoc_ttest(scr_aovdf, val_col='acc', group_col='difficulty', p_adjust='bonferroni')\n",
    "mask_scr_posthoc = sp.posthoc_ttest(scr_aovdf, val_col='acc', group_col='mask', p_adjust='bonferroni')\n",
    "print('\\nPosthoc comparisons across levels of difficulty \\n', diff_scr_posthoc, '\\n\\nPosthoc comparisons across levels of masking \\n', mask_scr_posthoc)"
   ]
  },
  {
   "cell_type": "markdown",
   "metadata": {},
   "source": [
    "### Plot\n",
    "\n",
    "This section reproduces the plots linked to human accuracy analyses."
   ]
  },
  {
   "cell_type": "code",
   "execution_count": 28,
   "metadata": {},
   "outputs": [
    {
     "data": {
      "image/png": "[encoded data removed]",
      "text/plain": [
       "<Figure size 576x374.4 with 1 Axes>"
      ]
     },
     "metadata": {
      "needs_background": "light"
     },
     "output_type": "display_data"
    }
   ],
   "source": [
    "### GENERAL ANOVA PLOT\n",
    "\n",
    "fig, axes = plt.subplots(1, 1, figsize = (8.0, 5.2))\n",
    "\n",
    "# make the point plot\n",
    "gen_plot = sns.pointplot(\n",
    "    data = gen_aovdf,\n",
    "    x = 'manipulation',\n",
    "    y = 'acc',\n",
    "    hue = 'mask',\n",
    "    dodge = 0.2,\n",
    "    join = False,\n",
    "    hue_order = ['no mask', 'mask'],\n",
    "    order = manipulations.keys(),\n",
    "    palette = mask_palette,\n",
    "    errwidth = 1.2,\n",
    "    capsize = 0.02,\n",
    "    ax = axes\n",
    ")\n",
    "# add individual data points\n",
    "gen_ind_plot = sns.stripplot(\n",
    "    data = gen_aovdf,\n",
    "    x = 'manipulation',\n",
    "    y = 'acc', \n",
    "    hue = 'mask',\n",
    "    alpha = 0.2,\n",
    "    order = manipulations.keys(),\n",
    "    hue_order = ['no mask', 'mask'],\n",
    "    palette = mask_palette,\n",
    "    ax = axes,\n",
    "    dodge = 0.2,\n",
    "    clip_on=False,\n",
    ")\n",
    "# set the y axis range\n",
    "plt.ylim(0.5, 1)\n",
    "# set the labels\n",
    "gen_ind_plot.set(xlabel = 'Manipulation', ylabel = 'Accuracy')\n",
    "gen_ind_plot.set_xticklabels(['Control', 'Clutter','Occlusion', 'PS'])\n",
    "# link the average datapoints\n",
    "for (x0, y0), (x1, y1) in zip(axes.collections[0].get_offsets(), axes.collections[1].get_offsets()):\n",
    "    axes.plot([x0, x1], [y0, y1], color='gray', ls='--', zorder=0, alpha = 0.5)\n",
    "# give a title to the plot\n",
    "plt.title('Accuracy per condition and per mask')\n",
    "# keep only one legend\n",
    "handles, labels = axes.get_legend_handles_labels()\n",
    "l = plt.legend(handles[0:2], labels[0:2], bbox_to_anchor=(1.05, 1), loc=2, borderaxespad=0., frameon = False)\n",
    "# remove the top and left frame\n",
    "axes.spines['top'].set_visible(False)\n",
    "axes.spines['right'].set_visible(False)"
   ]
  }
 ],
 "metadata": {
  "kernelspec": {
   "display_name": "Python 3",
   "language": "python",
   "name": "python3"
  },
  "language_info": {
   "codemirror_mode": {
    "name": "ipython",
    "version": 3
   },
   "file_extension": ".py",
   "mimetype": "text/x-python",
   "name": "python",
   "nbconvert_exporter": "python",
   "pygments_lexer": "ipython3",
   "version": "3.10.5"
  }
 },
 "nbformat": 4,
 "nbformat_minor": 2
}
