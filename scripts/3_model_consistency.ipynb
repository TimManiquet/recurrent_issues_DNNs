{
 "cells": [
  {
   "cell_type": "markdown",
   "metadata": {},
   "source": [
    "## Analysing model consistency\n",
    "\n",
    "This notebook reproduces the model-human task consistency correlation analysis from the section _Better performing models are more consistent with human performance patterns across image manipulations_. Model average performances are calculated _per task_ and their pattern of performance is then correlated with that of humans."
   ]
  },
  {
   "cell_type": "code",
   "execution_count": 12,
   "metadata": {},
   "outputs": [],
   "source": [
    "# General package imports\n",
    "import numpy as np\n",
    "import pandas as pd\n",
    "import matplotlib.pyplot as plt\n",
    "import os, json\n",
    "import scipy\n",
    "from scipy.stats import sem\n",
    "from matplotlib.lines import Line2D"
   ]
  },
  {
   "cell_type": "code",
   "execution_count": 4,
   "metadata": {},
   "outputs": [],
   "source": [
    "# Import some useful lists\n",
    "external_list_file = '../data/external/lists.json'\n",
    "\n",
    "# Read the json lists from the external list file\n",
    "lists = json.load(open(external_list_file))\n",
    "\n",
    "# Extract the relevant lists from the data\n",
    "tasks = lists['tasks']\n",
    "task_difficulty = lists['task_difficulty']\n",
    "models = lists['models']\n",
    "model_sizes = lists['model_sizes']\n",
    "model_names = lists['model_names']\n",
    "model_names_size_ordered = lists['model_names_size_ordered']\n",
    "model_palette = lists['model_palette']\n",
    "model_architectures = lists['model_architectures']"
   ]
  },
  {
   "cell_type": "markdown",
   "metadata": {},
   "source": [
    "Define a function to extract confidence interval range."
   ]
  },
  {
   "cell_type": "code",
   "execution_count": 10,
   "metadata": {},
   "outputs": [],
   "source": [
    "def get_CI_range(data, confidence=0.95):\n",
    "  '''\n",
    "  Output:\n",
    "    Difference between the mean and the lower boundary of the 95% CI around the mean.\n",
    "  '''\n",
    "  confidence_interval = scipy.stats.norm.interval(\n",
    "    alpha=confidence,\n",
    "    loc=np.mean(data),\n",
    "    scale=scipy.stats.sem(data)\n",
    "  )\n",
    "  \n",
    "  interval = np.mean(data) - confidence_interval[0]\n",
    "  \n",
    "  return interval"
   ]
  },
  {
   "cell_type": "markdown",
   "metadata": {},
   "source": [
    "Read the data."
   ]
  },
  {
   "cell_type": "code",
   "execution_count": 8,
   "metadata": {},
   "outputs": [],
   "source": [
    "# Import the data\n",
    "consistency_data = pd.read_pickle('../data/processed/perf_vectors.pkl')\n",
    "consistency_reliability = pd.read_pickle('../data/processed/consistency_noise_ceilings.pkl')"
   ]
  },
  {
   "cell_type": "code",
   "execution_count": 13,
   "metadata": {},
   "outputs": [],
   "source": [
    "## Parse out the data\n",
    "\n",
    "# Extract task-wise performance per model\n",
    "task_perf = {\n",
    "    m: {\n",
    "        t: [consistency_data[m][s][i] for s in range(20)]\n",
    "    for i, t in enumerate(tasks)\n",
    "    }\n",
    "    for m in models\n",
    "}\n",
    "\n",
    "# Make an easy v challenging task aggregation\n",
    "task_difficulty_perf = {\n",
    "    m: {\n",
    "        'easy': [np.mean(task_perf[m][t]) for t in tasks if task_difficulty[t]=='easy'],\n",
    "        'challenging': [np.mean(task_perf[m][t]) for t in tasks if task_difficulty[t]=='hard']\n",
    "    }\n",
    "    for m in models\n",
    "}\n",
    "# Calculate the task-wise correlation with the general human accuracy\n",
    "acc_seed_consistencies = [[np.corrcoef([task_perf[m][t][s] for t in tasks], consistency_data['accuracy'])[1, 0] for s in range(20)] for m in models]\n",
    "acc_mean_consistencies = [np.mean(acc_seed_consistencies[i]) for i in range(len(models))]\n",
    "acc_sem_consistencies = [sem(acc_seed_consistencies[i]) for i in range(len(models))]\n",
    "acc_ci_consistencies = [get_CI_range(acc_seed_consistencies[i]) for i in range(len(models))]\n",
    "\n",
    "# Calculate the task-wise correlation with the no mask human accuracy\n",
    "acc_nomask_seed_consistencies = [[np.corrcoef([task_perf[m][t][s] for t in tasks], consistency_data['no mask accuracy'])[1, 0] for s in range(20)] for m in models]\n",
    "acc_nomask_mean_consistencies = [np.mean(acc_nomask_seed_consistencies[i]) for i in range(len(models))]\n",
    "acc_nomask_sem_consistencies = [sem(acc_nomask_seed_consistencies[i]) for i in range(len(models))]\n",
    "acc_nomask_ci_consistencies = [get_CI_range(acc_nomask_seed_consistencies[i]) for i in range(len(models))]\n",
    "\n",
    "# Calculate the task-wise correlation with the mask human accuracy\n",
    "acc_mask_seed_consistencies = [[np.corrcoef([task_perf[m][t][s] for t in tasks], consistency_data['mask accuracy'])[1, 0] for s in range(20)] for m in models]\n",
    "acc_mask_mean_consistencies = [np.mean(acc_mask_seed_consistencies[i]) for i in range(len(models))]\n",
    "acc_mask_sem_consistencies = [sem(acc_mask_seed_consistencies[i]) for i in range(len(models))]\n",
    "acc_mask_ci_consistencies = [get_CI_range(acc_mask_seed_consistencies[i]) for i in range(len(models))]\n",
    "\n",
    "# Merge eveything in a df to re-order it later\n",
    "consistency_df = pd.DataFrame({\n",
    "    'model': models,\n",
    "    'size': model_sizes.values(),\n",
    "    'acc mean':acc_mean_consistencies, \n",
    "    'acc sem': acc_sem_consistencies, \n",
    "    'acc ci': acc_ci_consistencies, \n",
    "    'acc no mask mean': acc_nomask_mean_consistencies, \n",
    "    'acc no mask sem': acc_nomask_sem_consistencies, \n",
    "    'acc no mask ci': acc_nomask_ci_consistencies, \n",
    "    'acc mask mean': acc_mask_mean_consistencies, \n",
    "    'acc mask sem': acc_mask_sem_consistencies, \n",
    "    'acc mask ci': acc_mask_ci_consistencies, \n",
    "})"
   ]
  },
  {
   "cell_type": "markdown",
   "metadata": {},
   "source": [
    "Print some results."
   ]
  },
  {
   "cell_type": "code",
   "execution_count": 14,
   "metadata": {},
   "outputs": [
    {
     "name": "stdout",
     "output_type": "stream",
     "text": [
      "Model cornet_z: overall consistency of 0.6965158015499925.\n",
      "\n",
      "Model cornet_V1_V1: overall consistency of 0.6479233634838569.\n",
      "\n",
      "Model cornet_IT_IT: overall consistency of 0.7481639416909578.\n",
      "\n",
      "Model CORnet_RT: overall consistency of 0.747339751783563.\n",
      "\n",
      "Model TDnet: overall consistency of 0.7598005002437561.\n",
      "\n",
      "Model FBnet: overall consistency of 0.7750016798280781.\n",
      "\n",
      "Model cornet_s: overall consistency of 0.7941164038110518.\n",
      "\n",
      "Model B_net_128: overall consistency of 0.7093066688861451.\n",
      "\n",
      "Model BL_net_128: overall consistency of 0.7614424021054383.\n",
      "\n",
      "Model BT_net_128: overall consistency of 0.7529548829680418.\n",
      "\n",
      "Model BLT_net_128: overall consistency of 0.7567229194361924.\n",
      "\n",
      "Model vgg11_bn_small: overall consistency of 0.7181100639478805.\n",
      "\n",
      "Model vgg16_bn: overall consistency of 0.8462311199302327.\n",
      "\n"
     ]
    }
   ],
   "source": [
    "for i in range(len(consistency_df)):\n",
    "    print(\n",
    "        f\"Model {consistency_df['model'][i]}: overall consistency of {consistency_df['acc mean'][i]}.\\n\"\n",
    "    )"
   ]
  },
  {
   "cell_type": "markdown",
   "metadata": {},
   "source": [
    "Define some styling elements."
   ]
  },
  {
   "cell_type": "code",
   "execution_count": 19,
   "metadata": {},
   "outputs": [],
   "source": [
    "# Define some styling elements\n",
    "R_COLOUR = '#607A56' # One colour for recurrent models\n",
    "FF_COLOUR = 'darkGray' # Another colour for non recurrent models\n",
    "NOMASK_COLOUR = '#9FD07D' # Light green like on the poster\n",
    "MASK_COLOUR = '#2C750F' # Darker shade of that green\n",
    "legend_fontsize = 10.0 # 18 for posters\n",
    "marker_size = 3.0 # 10 for posters\n",
    "err_bar_dict={\n",
    "    'linewidth': 2.0,  # 12 for posters\n",
    "    'capsize': 2.0,     # 4 for posters\n",
    "}\n",
    "# A colour for human results\n",
    "hum_col = '#AADDFF'"
   ]
  },
  {
   "cell_type": "markdown",
   "metadata": {},
   "source": [
    "Reproduce figure 5a and 5b."
   ]
  },
  {
   "cell_type": "code",
   "execution_count": 17,
   "metadata": {},
   "outputs": [
    {
     "data": {
      "image/png": "[encoded data removed]",
      "text/plain": [
       "<Figure size 684x396 with 2 Axes>"
      ]
     },
     "metadata": {
      "needs_background": "light"
     },
     "output_type": "display_data"
    }
   ],
   "source": [
    "# First figure: model performance x size\n",
    "fig, ax = plt.subplots(1, 2, figsize=(9.5, 5.5), gridspec_kw={'width_ratios': [2, 5]})\n",
    "\n",
    "# Create the bar plot values\n",
    "x_values = range(len(consistency_df))\n",
    "y_values = consistency_df['acc mean']\n",
    "# yerr = consistency_df['acc sem'] # For SEM\n",
    "yerr = consistency_df['acc ci'] # For CI\n",
    "\n",
    "# Left side of the plot - bars\n",
    "bars = ax[0].barh(\n",
    "    y=x_values,\n",
    "    width=y_values,\n",
    "    height=0.7,\n",
    "    xerr = yerr,\n",
    "    error_kw=err_bar_dict,\n",
    "    color=[model_palette[m] for m in consistency_df['model']],\n",
    "    linewidth=0.1,\n",
    "    edgecolor='white',\n",
    "    hatch=['' if model_architectures[m]==\"recurrent\" else '////' for m in consistency_df['model']],\n",
    ")\n",
    "# Change the axes\n",
    "ax[0].set_xlim(0.55, 1.0)\n",
    "ax[0].set_ylabel(None)\n",
    "ax[0].set_xlabel('Consistency')\n",
    "ax[0].set_yticks(ticks=x_values, labels=[model_names[m] for m in consistency_df['model']])\n",
    "# Add a noise ceiling\n",
    "ax[0].axvline(\n",
    "    np.mean(consistency_reliability['across ppts']['accuracy']),\n",
    "    color='lightGray',\n",
    "    linewidth=4.0)\n",
    "\n",
    "# Right part of the plot\n",
    "ax[1].set_ylabel('Size (# parameters)')\n",
    "ax[1].set_yscale('log')\n",
    "ax[1].set_xlabel('Consistency')\n",
    "ax[1].set_xlim(0.62, 0.87)\n",
    "ax[1].set_xticks(ticks=ax[1].get_xticks()[1:])\n",
    "# Make the scatter plot\n",
    "ax[1].scatter(\n",
    "    y = consistency_df['size'],\n",
    "    x = y_values,\n",
    "    color=[model_palette[m] if model_architectures[m]==\"recurrent\" else 'white' for m in consistency_df['model']],\n",
    "    edgecolor=[model_palette[m] for m in consistency_df['model']],\n",
    "    linewidth=3.0,\n",
    "    s = marker_size*20\n",
    ")\n",
    "# Adjust the distance between plots\n",
    "plt.subplots_adjust(wspace=0.3)"
   ]
  },
  {
   "cell_type": "markdown",
   "metadata": {},
   "source": [
    "Reproduce figure 5c."
   ]
  },
  {
   "cell_type": "code",
   "execution_count": 21,
   "metadata": {},
   "outputs": [
    {
     "data": {
      "text/plain": [
       "Text(0.5, 1.0, 'Masked trials')"
      ]
     },
     "execution_count": 21,
     "metadata": {},
     "output_type": "execute_result"
    },
    {
     "data": {
      "image/png": "[encoded data removed]",
      "text/plain": [
       "<Figure size 612x144 with 2 Axes>"
      ]
     },
     "metadata": {
      "needs_background": "light"
     },
     "output_type": "display_data"
    }
   ],
   "source": [
    "## Make two bar plots of average consistency, with and without mask\n",
    "\n",
    "# Make the two plots next to one another\n",
    "fig, ax = plt.subplots(1, 2, figsize=(8.5, 2.0))\n",
    "bar_width = 0.6\n",
    "\n",
    "# Left side of the plot - easy bars\n",
    "ax[0].bar(x=range(len(consistency_df)), height=consistency_df['acc no mask mean'], width=bar_width,\n",
    "          color=NOMASK_COLOUR, label='No mask', yerr = consistency_df['acc no mask ci'],\n",
    "               error_kw= err_bar_dict)\n",
    "# Add a noise ceiling\n",
    "ax[0].axhline(\n",
    "    np.mean(consistency_reliability['across ppts']['accuracy no mask']),\n",
    "    color='lightGray',\n",
    "    linewidth=4.0)\n",
    "# Change the axes\n",
    "ax[0].set_ylim(0.2, 1.0)\n",
    "ax[0].set_yticks(ticks=ax[0].get_yticks()[1:])\n",
    "ax[0].set_ylabel('Consistency')\n",
    "ax[0].set_xticks(range(len(consistency_df)), labels=[model_names[m] for m in consistency_df['model']], rotation = 90)\n",
    "# Add a title\n",
    "ax[0].set_title('Unmasked trials')\n",
    "\n",
    "# Right side of the plot - challenging bars\n",
    "ax[1].bar(x=range(len(consistency_df)), height=consistency_df['acc mask mean'], width=bar_width, \n",
    "          color=MASK_COLOUR, label='Easy tasks', yerr = consistency_df['acc mask ci'],\n",
    "               error_kw= err_bar_dict)\n",
    "ax[1].axhline(\n",
    "    np.mean(consistency_reliability['across ppts']['accuracy mask']),\n",
    "    color='lightGray',\n",
    "    linewidth=4.0)\n",
    "# Change the axes\n",
    "ax[1].set_ylim(0.2, 1.0)\n",
    "ax[1].set_xticks(range(len(consistency_df)), labels=[model_names[m] for m in consistency_df['model']], rotation = 90)\n",
    "# Add a title\n",
    "ax[1].set_title('Masked trials')"
   ]
  }
 ],
 "metadata": {
  "kernelspec": {
   "display_name": "Python 3",
   "language": "python",
   "name": "python3"
  },
  "language_info": {
   "codemirror_mode": {
    "name": "ipython",
    "version": 3
   },
   "file_extension": ".py",
   "mimetype": "text/x-python",
   "name": "python",
   "nbconvert_exporter": "python",
   "pygments_lexer": "ipython3",
   "version": "3.10.5"
  }
 },
 "nbformat": 4,
 "nbformat_minor": 2
}
