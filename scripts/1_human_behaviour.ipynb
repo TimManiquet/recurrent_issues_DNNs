{
 "cells": [
  {
   "cell_type": "markdown",
   "metadata": {},
   "source": [
    "## Analysing human behaviour\n",
    "\n",
    "This notebook reproduces behavioural performance analyses on the human data from the section _Visual manipulations trigger recurrent processing_."
   ]
  },
  {
   "cell_type": "code",
   "execution_count": 14,
   "metadata": {},
   "outputs": [],
   "source": [
    "# General package imports\n",
    "import pandas as pd\n",
    "import numpy as np\n",
    "import matplotlib.pyplot as plt\n",
    "from scipy.stats import ttest_rel\n",
    "import json"
   ]
  },
  {
   "cell_type": "code",
   "execution_count": 4,
   "metadata": {},
   "outputs": [],
   "source": [
    "# Import some useful lists\n",
    "external_list_file = '../data/external/lists.json'\n",
    "\n",
    "# Read the json lists from the external list file\n",
    "lists = json.load(open(external_list_file))\n",
    "\n",
    "# Extract the relevant lists from the data\n",
    "tasks = lists['tasks']"
   ]
  },
  {
   "cell_type": "markdown",
   "metadata": {},
   "source": [
    "Define a function to get a star pattern from a p-value."
   ]
  },
  {
   "cell_type": "code",
   "execution_count": 9,
   "metadata": {},
   "outputs": [],
   "source": [
    "def p_to_star(pvalue):\n",
    "    '''Takes a p value and returns the corresponding significance stars.'''\n",
    "    if pvalue <= 0.0001:\n",
    "        return \"****\"\n",
    "    elif pvalue <= 0.001:\n",
    "        return \"***\"\n",
    "    elif pvalue <= 0.01:\n",
    "        return \"**\"\n",
    "    elif pvalue <= 0.05:\n",
    "        return \"*\"\n",
    "    return \"ns\""
   ]
  },
  {
   "cell_type": "markdown",
   "metadata": {},
   "source": [
    "Aggregate the data in a dataframe."
   ]
  },
  {
   "cell_type": "code",
   "execution_count": 17,
   "metadata": {},
   "outputs": [],
   "source": [
    "# Load the data\n",
    "perf_data = pd.read_pickle('../data/processed/perf_vectors.pkl')\n",
    "human_data = pd.read_pickle('../data/processed/human_bh_results.pkl')\n",
    "# Report the different data of interest in a dataframe\n",
    "df = pd.DataFrame({\n",
    "    'task': tasks,\n",
    "    # extract accuracy data\n",
    "    'average accuracy': perf_data['accuracy'],\n",
    "    'sem average accuracy': perf_data['sem accuracy'],\n",
    "    'mask accuracy': perf_data['mask accuracy'],\n",
    "    'sem mask accuracy': perf_data['sem mask accuracy'],\n",
    "    'no mask accuracy': perf_data['no mask accuracy'],\n",
    "    'sem no mask accuracy': perf_data['sem no mask accuracy'],\n",
    "    # extract RT data\n",
    "    'average RT': perf_data['RT'],\n",
    "    'sem average RT': perf_data['sem RT'],\n",
    "    'mask RT': perf_data['mask RT'],\n",
    "    'sem mask RT': perf_data['sem mask RT'],\n",
    "    'no mask RT': perf_data['no mask RT'],\n",
    "    'sem no mask RT': perf_data['sem no mask RT']\n",
    "})"
   ]
  },
  {
   "cell_type": "markdown",
   "metadata": {},
   "source": [
    "Split the tasks in easy and hard based on a threshold, and perform a t-test on the average accuracy across levels of masking."
   ]
  },
  {
   "cell_type": "code",
   "execution_count": 6,
   "metadata": {},
   "outputs": [],
   "source": [
    "# Sort the df by average accuracy\n",
    "df = df.sort_values(by='no mask accuracy', ascending=False, ignore_index=True)\n",
    "\n",
    "# Perform a paired t test to check for significant differences across masking\n",
    "_, p_value_acc = ttest_rel(df['mask accuracy'], df['no mask accuracy'])\n",
    "_, p_value_rt = ttest_rel(df['mask RT'], df['no mask RT'])\n",
    "\n",
    "# Sort tasks in easy or challenging based on a threshold of accuracy\n",
    "THRESHOLD = 0.9\n",
    "df['group'] = df['mask accuracy'].apply(lambda x: 'easy' if x >= THRESHOLD else 'hard')\n",
    "\n",
    "# Check if there are differences in accuracy across masking for each group of tasks\n",
    "_, p_value_acc_easy = ttest_rel(df[df['group']=='easy']['mask accuracy'], df[df['group']=='easy']['no mask accuracy'])\n",
    "_, p_value_acc_hard = ttest_rel(df[df['group']=='hard']['mask accuracy'], df[df['group']=='hard']['no mask accuracy'])"
   ]
  },
  {
   "cell_type": "markdown",
   "metadata": {},
   "source": [
    "Print the results of the analysis."
   ]
  },
  {
   "cell_type": "code",
   "execution_count": 7,
   "metadata": {},
   "outputs": [
    {
     "name": "stdout",
     "output_type": "stream",
     "text": [
      "The acurracy with mask and without mask is not sigificantly different in the easy condition (p=0.20081031255500256)\n",
      " The acurracy with mask and without mask is significantly different in the hard condition (p=0.0028896591569631575)\n"
     ]
    }
   ],
   "source": [
    "print(\n",
    "    f\"The acurracy with mask and without mask is not sigificantly different in the easy condition (p={p_value_acc_easy})\\n\",\n",
    "    f\"The acurracy with mask and without mask is significantly different in the hard condition (p={p_value_acc_hard})\"\n",
    ")"
   ]
  },
  {
   "cell_type": "code",
   "execution_count": 8,
   "metadata": {},
   "outputs": [],
   "source": [
    "# Import some useful lists\n",
    "external_list_file = '../data/external/lists.json'\n",
    "\n",
    "# Read the json lists from the external list file\n",
    "lists = json.load(open(external_list_file))\n",
    "\n",
    "# Extract the relevant lists from the data\n",
    "tasks = lists['tasks']\n",
    "categories = lists['categories']\n",
    "task_names = lists['task_names']"
   ]
  },
  {
   "cell_type": "markdown",
   "metadata": {},
   "source": [
    "Define some styling elements"
   ]
  },
  {
   "cell_type": "code",
   "execution_count": 10,
   "metadata": {},
   "outputs": [],
   "source": [
    "NOMASK_COLOUR = '#9FD07D' # Light green like on the poster\n",
    "MASK_COLOUR = '#2C750F' # Darker shade of that green\n",
    "legend_fontsize = 10.0 # 18 for posters\n",
    "marker_size = 3.0 # 10 for posters\n",
    "err_bar_dict = dict(  # style elements for the error bars\n",
    "  lw=2.0, # 12 for posters\n",
    "  capsize=2.0, # 4 for posters\n",
    "  capthick=1.0 # 1.2 for posters\n",
    ")\n",
    "bar_width = 0.1 # 0.3 for posters"
   ]
  },
  {
   "cell_type": "markdown",
   "metadata": {},
   "source": [
    "Reproduce figure 3a."
   ]
  },
  {
   "cell_type": "code",
   "execution_count": 23,
   "metadata": {},
   "outputs": [
    {
     "data": {
      "text/plain": [
       "Text(1.25, 0.51, '**')"
      ]
     },
     "execution_count": 23,
     "metadata": {},
     "output_type": "execute_result"
    },
    {
     "data": {
      "image/png": "[encoded data removed]",
      "text/plain": [
       "<Figure size 504x252 with 1 Axes>"
      ]
     },
     "metadata": {
      "needs_background": "light"
     },
     "output_type": "display_data"
    }
   ],
   "source": [
    "## Make a point plot with accuracy, with and without mask\n",
    "fig, ax = plt.subplots(figsize=(7.0, 3.5))\n",
    "\n",
    "# Plot the data with error bars\n",
    "x = np.arange(len(df['task']))  # the label locations\n",
    "offset = 0.15 # the dodge value between x points\n",
    "\n",
    "ax.errorbar(x - offset, df['no mask accuracy'], yerr=df['sem no mask accuracy'], fmt='s',\n",
    "            color=NOMASK_COLOUR, label='No Mask', markersize=marker_size)\n",
    "ax.errorbar(x + offset, df['mask accuracy'], yerr=df['sem mask accuracy'], fmt='o',\n",
    "            color=MASK_COLOUR, label='Mask', markersize=marker_size)\n",
    "\n",
    "# Customize the axes\n",
    "ax.set_ylabel('Accuracy')\n",
    "ax.set_ylim(0.3, 1.0)\n",
    "# Remove the first y tick\n",
    "ax.set_yticks(ticks=ax.get_yticks()[1:])\n",
    "ax.set_xticks(x)\n",
    "# Extract task labels\n",
    "x_labels = [task_names[task] for task in df['task'].values]\n",
    "ax.set_xticklabels(x_labels, rotation=90)\n",
    "# Draw the legend with the significance bar\n",
    "ax.legend(fontsize = legend_fontsize, bbox_to_anchor=(0.12, 0.47), loc=2, handletextpad=0.0, frameon=False)\n",
    "ax.vlines(x = 2.0, ymin = 0.49, ymax = 0.57, color = 'darkGray', linestyle='-', clip_on=False)\n",
    "ax.text(1.25, 0.51, p_to_star(human_data['p value accuracy x mask']), fontsize = legend_fontsize)"
   ]
  },
  {
   "cell_type": "markdown",
   "metadata": {},
   "source": [
    "Reproduce figure 3c."
   ]
  },
  {
   "cell_type": "code",
   "execution_count": 28,
   "metadata": {},
   "outputs": [
    {
     "data": {
      "text/plain": [
       "Text(1.25, 725, 'ns')"
      ]
     },
     "execution_count": 28,
     "metadata": {},
     "output_type": "execute_result"
    },
    {
     "data": {
      "image/png": "[encoded data removed]",
      "text/plain": [
       "<Figure size 504x252 with 1 Axes>"
      ]
     },
     "metadata": {
      "needs_background": "light"
     },
     "output_type": "display_data"
    }
   ],
   "source": [
    "## Make a point plot with RT, with and without mask\n",
    "fig, ax = plt.subplots(figsize=(7.0, 3.5))\n",
    "\n",
    "# Plot the data with error bars\n",
    "x = np.arange(len(df['task']))  # the label locations\n",
    "offset = 0.15 # the dodge value between x points\n",
    "\n",
    "ax.errorbar(x - offset, df['no mask RT'], yerr=df['sem no mask RT'], fmt='s', \n",
    "            color=NOMASK_COLOUR, label='No Mask', markersize=marker_size)\n",
    "ax.errorbar(x + offset, df['mask RT'], yerr=df['sem mask RT'], fmt='o',\n",
    "            color=MASK_COLOUR, label='Mask', markersize=marker_size)\n",
    "\n",
    "# Customize the axes\n",
    "ax.set_ylabel('RT (ms)')\n",
    "ax.set_ylim(600, 1200)\n",
    "# Remove the first y tick\n",
    "# ax.set_yticks(ticks=ax.get_yticks()[1:])\n",
    "ax.set_xticks(x)\n",
    "# Extract task labels\n",
    "x_labels = [task_names[task] for task in df['task'].values]\n",
    "ax.set_xticklabels(x_labels, rotation=90)\n",
    "# Draw the legend with the significance bar\n",
    "ax.legend(fontsize = legend_fontsize, bbox_to_anchor=(0.12, 0.36), loc=2, handletextpad=0.0, frameon=False)\n",
    "ax.vlines(x = 2.0, ymin = 730 - 35, ymax = 730 + 35, color = 'darkGray', linestyle='-', clip_on=False)\n",
    "ax.text(1.25, 725, p_to_star(human_data['p value rt x mask']), fontsize = legend_fontsize)"
   ]
  },
  {
   "cell_type": "markdown",
   "metadata": {},
   "source": [
    "Reproduce figure 3b."
   ]
  },
  {
   "cell_type": "code",
   "execution_count": 42,
   "metadata": {},
   "outputs": [
    {
     "data": {
      "image/png": "[encoded data removed]",
      "text/plain": [
       "<Figure size 324x324 with 1 Axes>"
      ]
     },
     "metadata": {
      "needs_background": "light"
     },
     "output_type": "display_data"
    }
   ],
   "source": [
    "## Make a bar plot of accuracy per challenging/easy, per masking\n",
    "\n",
    "# Group the data by 'group' and calculate the mean and SEM\n",
    "grouped_mean = human_data['data'].groupby('group')[['no mask accuracy', 'mask accuracy']].mean()\n",
    "grouped_sem = human_data['data'].groupby('group')[['no mask accuracy', 'mask accuracy']].sem()\n",
    "\n",
    "# Plotting\n",
    "fig, ax = plt.subplots(figsize=(4.5, 4.5))\n",
    "\n",
    "x = np.arange(len(grouped_mean)) / 3 # the label locations\n",
    "\n",
    "# Create bars with error bars\n",
    "bars1 = ax.bar(x - bar_width/2, grouped_mean['no mask accuracy'], bar_width, color=NOMASK_COLOUR,\n",
    "               yerr=grouped_sem['no mask accuracy'], label='No Mask',\n",
    "               error_kw= err_bar_dict)\n",
    "bars2 = ax.bar(x + bar_width/2, grouped_mean['mask accuracy'], bar_width, color=MASK_COLOUR,\n",
    "               yerr=grouped_sem['mask accuracy'], label='Mask',\n",
    "               error_kw= err_bar_dict)\n",
    "\n",
    "# Customize the plot\n",
    "ax.set_xticks(x)\n",
    "# ax.set_xticklabels(['Easy \\nmanipulations', 'Hard \\nmanipulations'], fontsize=10, color='black', ha='left')\n",
    "ax.set_xticklabels([])\n",
    "\n",
    "# Add significance bars\n",
    "ax.hlines(grouped_mean.loc[grouped_mean.index=='easy', 'no mask accuracy'] + 0.05,\n",
    "          xmin = ax.get_xticks()[0]-bar_width/2, xmax = ax.get_xticks()[0]+bar_width/2,\n",
    "          color = 'darkGray', linestyle='-', clip_on=False)\n",
    "ax.text(ax.get_xticks()[0] - 0.02, grouped_mean.loc[grouped_mean.index=='easy', 'no mask accuracy'] + 0.07,\n",
    "        p_to_star(human_data['p value accuracy x mask, easy']), fontsize = legend_fontsize)\n",
    "# Give a small title to the left side\n",
    "ax.text(ax.get_xticks()[0] - 0.06, grouped_mean.loc[grouped_mean.index=='hard', 'no mask accuracy'] + 0.25,\n",
    "        \"Easy tasks\", fontsize = legend_fontsize)\n",
    "ax.hlines(grouped_mean.loc[grouped_mean.index=='hard', 'no mask accuracy'] + 0.05,\n",
    "          xmin = ax.get_xticks()[1]-bar_width/2, xmax = ax.get_xticks()[1]+bar_width/2,\n",
    "          color = 'darkGray', linestyle='-', clip_on=False)\n",
    "ax.text(ax.get_xticks()[1] - 0.02, grouped_mean.loc[grouped_mean.index=='hard', 'no mask accuracy'] + 0.07,\n",
    "        p_to_star(human_data['p value accuracy x mask, hard']), fontsize = legend_fontsize)\n",
    "# Give a small title to the right side\n",
    "ax.text(ax.get_xticks()[1] - 0.06, grouped_mean.loc[grouped_mean.index=='hard', 'no mask accuracy'] + 0.25,\n",
    "        \"Hard tasks\", fontsize = legend_fontsize)\n",
    "\n",
    "# Remove the x ticks\n",
    "ax.tick_params(axis='x', which='both', length=0)  # 'length=0' hides the ticks"
   ]
  },
  {
   "cell_type": "markdown",
   "metadata": {},
   "source": [
    "Reproduce figure 3d."
   ]
  },
  {
   "cell_type": "code",
   "execution_count": 48,
   "metadata": {},
   "outputs": [
    {
     "data": {
      "text/plain": [
       "Text(0, 0.5, 'Average RT')"
      ]
     },
     "execution_count": 48,
     "metadata": {},
     "output_type": "execute_result"
    },
    {
     "data": {
      "image/png": "[encoded data removed]",
      "text/plain": [
       "<Figure size 324x288 with 1 Axes>"
      ]
     },
     "metadata": {
      "needs_background": "light"
     },
     "output_type": "display_data"
    }
   ],
   "source": [
    "# Make a scatter plot of masking effect x average RT\n",
    "\n",
    "# Define the colours & labels\n",
    "colors = {'easy': 'white', 'hard': 'black'}\n",
    "edgecolors = {'easy': 'black', 'hard': 'gray'}\n",
    "labels = {'easy': 'Easy manipulations', 'hard': 'Hard manipulations'}\n",
    "\n",
    "# Plotting\n",
    "fig, ax = plt.subplots(figsize=(4.5, 4.0))\n",
    "\n",
    "# Scatter plot\n",
    "for group in human_data['data']['group'].unique():\n",
    "    group_data = human_data['data'][human_data['data']['group'] == group]\n",
    "    ax.scatter(group_data['masking effect'], group_data['average RT'], color=colors[group],\n",
    "               s=marker_size*10, alpha=1.0, label = labels[group], edgecolor=edgecolors[group])\n",
    "\n",
    "# Customize the plot\n",
    "ax.set_xlabel('Masking Effect')\n",
    "ax.set_ylabel('Average RT')"
   ]
  }
 ],
 "metadata": {
  "kernelspec": {
   "display_name": "Python 3",
   "language": "python",
   "name": "python3"
  },
  "language_info": {
   "codemirror_mode": {
    "name": "ipython",
    "version": 3
   },
   "file_extension": ".py",
   "mimetype": "text/x-python",
   "name": "python",
   "nbconvert_exporter": "python",
   "pygments_lexer": "ipython3",
   "version": "3.10.5"
  }
 },
 "nbformat": 4,
 "nbformat_minor": 2
}
