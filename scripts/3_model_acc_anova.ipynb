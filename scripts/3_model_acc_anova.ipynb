{
 "cells": [
  {
   "cell_type": "markdown",
   "metadata": {},
   "source": [
    "## Analysing model performance\n",
    "\n",
    "This notebook reproduces the model performance analysis from the section _Model fit to human behaviour varies with recurrence and size_. Model average performances are calculated and compared using an ANOVA."
   ]
  },
  {
   "cell_type": "code",
   "execution_count": 14,
   "metadata": {},
   "outputs": [],
   "source": [
    "## preamble\n",
    "\n",
    "# packages\n",
    "import numpy as np\n",
    "import pandas as pd\n",
    "import matplotlib.pyplot as plt\n",
    "import statsmodels.api as sm\n",
    "from statsmodels.formula.api import ols\n",
    "import seaborn as sns\n",
    "from statsmodels.stats.multicomp import pairwise_tukeyhsd\n",
    "import scipy.stats as st\n",
    "from io import StringIO\n",
    "from scipy.stats import pearsonr"
   ]
  },
  {
   "cell_type": "code",
   "execution_count": 10,
   "metadata": {},
   "outputs": [],
   "source": [
    "# read the DNN data\n",
    "nndf = pd.read_csv('../data/nn_data.csv')\n",
    "# read the human data\n",
    "hdf = pd.read_csv('../data/human_data.csv')"
   ]
  },
  {
   "cell_type": "code",
   "execution_count": 11,
   "metadata": {},
   "outputs": [
    {
     "name": "stdout",
     "output_type": "stream",
     "text": [
      "One-way ANOVA on accuracy with model as factor\n",
      "             sum_sq     df           F         PR(>F)\n",
      "C(model)  0.627252   12.0  474.635187  5.642649e-163\n",
      "Residual  0.027202  247.0         NaN            NaN\n"
     ]
    }
   ],
   "source": [
    "# make an aggregate DNN accuracy dataframe\n",
    "aovdf = nndf.groupby(['model', 'seed'], as_index=False)['acc'].mean()\n",
    "\n",
    "# run a one-way anova from DNN data on accuracy based on a model formula\n",
    "formula = 'acc ~ C(model)'\n",
    "model = ols(formula, aovdf).fit()\n",
    "# print the results\n",
    "print('One-way ANOVA on accuracy with model as factor\\n', sm.stats.anova_lm(model, typ = 2))"
   ]
  },
  {
   "cell_type": "code",
   "execution_count": 19,
   "metadata": {},
   "outputs": [
    {
     "name": "stdout",
     "output_type": "stream",
     "text": [
      "Posthoc comparisons of model performance\n",
      "             group1          group2  meandiff   p-adj   lower   upper  reject\n",
      "0   BLT_net_128     BL_net_128       -0.0187  0.0000 -0.0298 -0.0076  True  \n",
      "1   BLT_net_128     BT_net_128       -0.0047  0.9690 -0.0158  0.0064  False \n",
      "2   BLT_net_128     B_net_128        -0.0629  0.0000 -0.0740 -0.0518  True  \n",
      "3   BLT_net_128     CORnet_RT        -0.0146  0.0012 -0.0257 -0.0035  True  \n",
      "4   BLT_net_128     FBnet            -0.0264  0.0000 -0.0375 -0.0153  True  \n",
      "..             ...             ...       ...     ...     ...     ...     ...\n",
      "73  cornet_s        vgg11_bn_small   -0.0448  0.0000 -0.0559 -0.0337  True  \n",
      "74  cornet_s        vgg16_bn          0.0180  0.0000  0.0069  0.0291  True  \n",
      "75  cornet_z        vgg11_bn_small    0.1080  0.0000  0.0969  0.1191  True  \n",
      "76  cornet_z        vgg16_bn          0.1708  0.0000  0.1597  0.1819  True  \n",
      "77  vgg11_bn_small  vgg16_bn          0.0628  0.0000  0.0517  0.0739  True  \n",
      "\n",
      "[78 rows x 7 columns]\n"
     ]
    }
   ],
   "source": [
    "# Run a Tukey posthoc analysis on the 1way anova\n",
    "tukey_test = pairwise_tukeyhsd(endog=aovdf['acc'], groups=aovdf['model'], alpha=0.05)\n",
    "# turn the summary table into a dataframe for better visualisation\n",
    "data = tukey_test.summary().as_csv()\n",
    "rows = data.split('\\n')[2:]\n",
    "header = 'group1,group2,meandiff,p-adj,lower,upper,reject\\n'\n",
    "data = header + '\\n'.join(rows)\n",
    "tukey_df = pd.read_csv(StringIO(data), sep=',', skipinitialspace=True)\n",
    "# print the results\n",
    "print('Posthoc comparisons of model performance\\n', tukey_df)"
   ]
  },
  {
   "cell_type": "markdown",
   "metadata": {},
   "source": [
    "### Plots\n",
    "\n",
    "Here we reproduce the plots from the results section _Model fit to human behaviour varies with recurrence and size_.\n",
    "\n",
    "First we make a **barplot of average model performance**, then we make a scatterplot of model average performance per model parameter size."
   ]
  },
  {
   "cell_type": "code",
   "execution_count": 6,
   "metadata": {},
   "outputs": [],
   "source": [
    "# Extract average human performance to show a noise ceiling on the plots\n",
    "hum_avg_perf = hdf['acc'].mean()"
   ]
  },
  {
   "cell_type": "code",
   "execution_count": 22,
   "metadata": {},
   "outputs": [],
   "source": [
    "# define some labels & information\n",
    "models_sizes= {'cornet_z': 1562760, 'cornet_V1_V1': 1599880, 'cornet_IT_IT': 3924104, 'CORnet_RT': 4700040, 'TDnet': 8183624, 'FBnet': 11831944, 'cornet_s': 52907720, 'B_net_128': 8291720, 'BL_net_128': 17257864, 'BT_net_128': 12592520, 'BLT_net_128': 21558664, 'vgg11_bn_small': 9426696, 'vgg16_bn': 134301768}\n",
    "models = ['cornet_z', 'cornet_V1_V1', 'cornet_IT_IT', 'CORnet_RT', 'TDnet', 'FBnet', 'cornet_s', 'B_net_128', 'BL_net_128', 'BT_net_128', 'BLT_net_128', 'vgg11_bn_small', 'vgg16_bn']\n",
    "models_palette = {'cornet_z': '#E5D5DA', 'cornet_V1_V1': '#D78282', 'cornet_IT_IT': '#ED6E33', 'CORnet_RT': '#F2B0CA', 'TDnet': '#F06599', 'FBnet': '#CA1E49', 'cornet_s': '#B849B5', 'B_net_128': '#D7E6F4', 'BL_net_128': '#97CEE3', 'BT_net_128': '#A5ACD7', 'BLT_net_128': '#4062AE', 'vgg11_bn_small': '#A7D27B', 'vgg16_bn': '#0F9948'}\n",
    "models_names = {'cornet_z': 'C', 'cornet_V1_V1': 'C V1-V1', 'cornet_IT_IT': 'C IT-IT', 'CORnet_RT': 'CL', 'TDnet': 'CT', 'FBnet': 'CLT', 'cornet_s': 'CS', 'B_net_128': 'B', 'BL_net_128': 'BL', 'BT_net_128': 'BT', 'BLT_net_128': 'BLT', 'vgg11_bn_small': 'VGG11', 'vgg16_bn': 'VGG16'}"
   ]
  },
  {
   "cell_type": "code",
   "execution_count": 32,
   "metadata": {},
   "outputs": [],
   "source": [
    "# define a function to extract a confidence interval range - useful for plotting\n",
    "def get_CI_range(data, confidence=0.95):\n",
    "    '''\n",
    "    Output:\n",
    "        Difference between the mean and the lower boundary of the 95% CI around the mean.\n",
    "    '''\n",
    "    confidence_interval = st.norm.interval(\n",
    "        alpha=confidence,\n",
    "        loc=np.mean(data),\n",
    "        scale=st.sem(data)\n",
    "    )\n",
    "    \n",
    "    interval = np.mean(data) - confidence_interval[0]\n",
    "    \n",
    "    return interval"
   ]
  },
  {
   "cell_type": "code",
   "execution_count": 41,
   "metadata": {},
   "outputs": [
    {
     "data": {
      "text/plain": [
       "<matplotlib.legend.Legend at 0x35c70d0c0>"
      ]
     },
     "execution_count": 41,
     "metadata": {},
     "output_type": "execute_result"
    },
    {
     "data": {
      "image/png": "[encoded data removed]",
      "text/plain": [
       "<Figure size 720x576 with 1 Axes>"
      ]
     },
     "metadata": {
      "needs_background": "light"
     },
     "output_type": "display_data"
    }
   ],
   "source": [
    "# barplot of average performance per model\n",
    "fig, ax = plt.subplots(figsize=(10.0, 8.0))\n",
    "plt.locator_params(axis = 'y', nbins=5)\n",
    "\n",
    "# Create the bar plot values\n",
    "x_values = range(len(models))\n",
    "y_values = [np.mean(aovdf.loc[aovdf['model']==m, 'acc']) for m in models]\n",
    "# calculate a confidence interval for each model\n",
    "yerr = [get_CI_range(aovdf.loc[aovdf['model']==m, 'acc'])for m in models]\n",
    "\n",
    "# Plot them on bars\n",
    "bars = ax.bar(\n",
    "    x=x_values,\n",
    "    height=y_values,\n",
    "    width=0.7,\n",
    "    color=models_palette.values(),\n",
    "    yerr = yerr,\n",
    "    edgecolor='gray',\n",
    "    linewidth=0.4,\n",
    "    error_kw=dict(lw=1, capsize = 2.0),\n",
    ")\n",
    "# Change the axes\n",
    "ax.set_ylim(0.55, 0.9)\n",
    "max_x = len(models) - 0.4\n",
    "ax.set_xlim(-0.6, max_x)\n",
    "ax.set_xlabel(None)\n",
    "ax.set_ylabel('Accuracy')\n",
    "ax.set_xticks(ticks=x_values, labels=models_names.values(), rotation=70)\n",
    "\n",
    "# give a title to the plot\n",
    "plt.title('Average performance per model')\n",
    "\n",
    "# remove the top and right frame lines\n",
    "ax.spines['right'].set_visible(False)\n",
    "ax.spines['top'].set_visible(False)\n",
    "\n",
    "# Add a horizontal line for human average performance\n",
    "plt.hlines(y=hum_avg_perf, xmin=-0.4, xmax=max_x - 0.2, color='#CDE1EE', linewidth=8)\n"
   ]
  },
  {
   "cell_type": "markdown",
   "metadata": {},
   "source": [
    "Next, we plot **model average performance per model size**.\n",
    "\n",
    "Having checked our model performances and which model performs significantly better, we start by **correlating model size with performance**."
   ]
  },
  {
   "cell_type": "code",
   "execution_count": 47,
   "metadata": {},
   "outputs": [
    {
     "name": "stdout",
     "output_type": "stream",
     "text": [
      "The Pearson's R correlation between model size and performance is 0.7446527359737221\n"
     ]
    }
   ],
   "source": [
    "# calculate the correlation between model size and model performance\n",
    "model_sizes = [models_sizes[m] for m in models]\n",
    "model_performances = [np.mean(aovdf.loc[aovdf['model']==m, 'acc']) for m in models]\n",
    "corr = pearsonr(model_sizes, model_performances)\n",
    "# print the results\n",
    "print(f'The Pearson\\'s R correlation between model size and performance is {corr[0]}.')"
   ]
  },
  {
   "cell_type": "code",
   "execution_count": 45,
   "metadata": {},
   "outputs": [
    {
     "data": {
      "text/plain": [
       "<matplotlib.legend.Legend at 0x35c963640>"
      ]
     },
     "execution_count": 45,
     "metadata": {},
     "output_type": "execute_result"
    },
    {
     "data": {
      "image/png": "[encoded data removed]",
      "text/plain": [
       "<Figure size 720x720 with 1 Axes>"
      ]
     },
     "metadata": {
      "needs_background": "light"
     },
     "output_type": "display_data"
    }
   ],
   "source": [
    "# scatterplot of model performance per model size\n",
    "fig, ax = plt.subplots(figsize=(10.0, 10.0))\n",
    "plt.locator_params(axis = 'y', nbins=3)\n",
    "\n",
    "# Change the axes\n",
    "ax.set_xlabel('Model size')\n",
    "ax.set_ylabel('Model performance')\n",
    "ax.set_xscale('log')\n",
    "\n",
    "# make the scatter plot\n",
    "ax.scatter(\n",
    "    x = model_sizes,\n",
    "    y = model_performances,\n",
    "    c = [models_palette[m] for m in models]\n",
    ")\n",
    "\n",
    "# give the plot a title\n",
    "plt.title('Scatter plot of model average performance per parameter size')\n",
    "\n",
    "# remove the top and right axes\n",
    "ax.spines['top'].set_visible(False)\n",
    "ax.spines['right'].set_visible(False)\n",
    "\n",
    "# add a legend with model colour\n",
    "legend_handles = []\n",
    "for model in models_names:\n",
    "    legend_handles.append(plt.Line2D([0], [0], marker='o', color='w', markerfacecolor=models_palette[model], markersize=10, label=models_names[model]))\n",
    "\n",
    "# Add the legend with custom handles\n",
    "ax.legend(handles=legend_handles, frameon = False, bbox_to_anchor=(1.05, 1))"
   ]
  },
  {
   "cell_type": "code",
   "execution_count": null,
   "metadata": {},
   "outputs": [],
   "source": []
  }
 ],
 "metadata": {
  "kernelspec": {
   "display_name": "Python 3",
   "language": "python",
   "name": "python3"
  },
  "language_info": {
   "codemirror_mode": {
    "name": "ipython",
    "version": 3
   },
   "file_extension": ".py",
   "mimetype": "text/x-python",
   "name": "python",
   "nbconvert_exporter": "python",
   "pygments_lexer": "ipython3",
   "version": "3.10.5"
  }
 },
 "nbformat": 4,
 "nbformat_minor": 2
}
