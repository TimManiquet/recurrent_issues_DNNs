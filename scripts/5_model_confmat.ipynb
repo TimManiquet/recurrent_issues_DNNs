{
 "cells": [
  {
   "cell_type": "markdown",
   "metadata": {},
   "source": [
    "## Analysing model confusion matrices\n",
    "\n",
    "This notebook reproduces the model-human confusion matrix correlation analyses from the section _Depth, not recurrence, makes model mistakes more human-like_. Model confusion matrices are built and correlated with that of humans."
   ]
  },
  {
   "cell_type": "code",
   "execution_count": 43,
   "metadata": {},
   "outputs": [],
   "source": [
    "## preamble\n",
    "\n",
    "# packages\n",
    "import numpy as np\n",
    "import pandas as pd\n",
    "import matplotlib.pyplot as plt\n",
    "import matplotlib.patches as patches\n",
    "from scipy.stats import pearsonr\n",
    "import seaborn as sns\n",
    "import scipy.stats as st\n",
    "from statsmodels.stats.weightstats import DescrStatsW\n",
    "from sklearn.metrics import confusion_matrix\n",
    "\n",
    "# declare some useful functions\n",
    "def rollout_matrix(m, remove_diagonal = True):\n",
    "  \"\"\"\n",
    "  Roll out a matrix into a vector while removing its diagonal.\n",
    "\n",
    "  Args:\n",
    "      m (ndarray): the input matrix.\n",
    "      remove_diagonal (bool, optional): whether or not to remove \n",
    "        the diagonal. Defaults to True.\n",
    "\n",
    "  Returns:\n",
    "      matrix: the rolled out matrix.\n",
    "  \"\"\"  \n",
    "  # copy the input to not change it\n",
    "  output = np.copy(m)\n",
    "  \n",
    "  if remove_diagonal:\n",
    "    # remove the diagonal\n",
    "    output = output[~(np.identity(output.shape[0], dtype=bool))]\n",
    "  else:\n",
    "    # just roll out the matrix\n",
    "    output = output.ravel()\n",
    "  \n",
    "  # roll out the matrix\n",
    "  return output"
   ]
  },
  {
   "cell_type": "code",
   "execution_count": 5,
   "metadata": {},
   "outputs": [],
   "source": [
    "# define some labels & information\n",
    "models = ['cornet_z', 'cornet_V1_V1', 'cornet_IT_IT', 'CORnet_RT', 'TDnet', 'FBnet', 'cornet_s', 'B_net_128', 'BL_net_128', 'BT_net_128', 'BLT_net_128', 'vgg11_bn_small', 'vgg16_bn']\n",
    "models_palette = {'cornet_z': '#E5D5DA', 'cornet_V1_V1': '#D78282', 'cornet_IT_IT': '#ED6E33', 'CORnet_RT': '#F2B0CA', 'TDnet': '#F06599', 'FBnet': '#CA1E49', 'cornet_s': '#B849B5', 'B_net_128': '#D7E6F4', 'BL_net_128': '#97CEE3', 'BT_net_128': '#A5ACD7', 'BLT_net_128': '#4062AE', 'vgg11_bn_small': '#A7D27B', 'vgg16_bn': '#0F9948'}\n",
    "models_names = {'cornet_z': 'C', 'cornet_V1_V1': 'C V1-V1', 'cornet_IT_IT': 'C IT-IT', 'CORnet_RT': 'CL', 'TDnet': 'CT', 'FBnet': 'CLT', 'cornet_s': 'CS', 'B_net_128': 'B', 'BL_net_128': 'BL', 'BT_net_128': 'BT', 'BLT_net_128': 'BLT', 'vgg11_bn_small': 'VGG11', 'vgg16_bn': 'VGG16'}\n",
    "categories = ['person', 'cat', 'bird', 'tree', 'banana', 'firehydrant', 'bus', 'building']\n",
    "category_palette = {'person': '#E78F46', 'cat': '#AF83CB', 'bird': '#6080BD', 'tree': '#609550', 'banana': '#E2CD61', 'firehydrant': '#E74A5F', 'bus': '#7ECEC9', 'building': '#6F747F'}"
   ]
  },
  {
   "cell_type": "code",
   "execution_count": 28,
   "metadata": {},
   "outputs": [],
   "source": [
    "# read the DNN data\n",
    "nndf = pd.read_csv('../data/nn_data.csv')\n",
    "# read the human data\n",
    "hdf = pd.read_csv('../data/human_data.csv')"
   ]
  },
  {
   "cell_type": "markdown",
   "metadata": {},
   "source": [
    "Build human and model confusion matrices."
   ]
  },
  {
   "cell_type": "code",
   "execution_count": 9,
   "metadata": {},
   "outputs": [],
   "source": [
    "\n",
    "# make the human confusion matrix\n",
    "hcm = confusion_matrix(\n",
    "    y_pred = hdf['prediction'],\n",
    "    y_true = hdf['category'],\n",
    "    labels = categories\n",
    ")\n",
    "\n",
    "# extract models conf mats per seed\n",
    "# list the seeds\n",
    "seeds = np.unique(nndf.loc[nndf['model'].isin(models),'seed'])\n",
    "\n",
    "# make one dict per seed\n",
    "seeds = {\n",
    "    s: {m:\n",
    "         confusion_matrix(\n",
    "             nndf.loc[(nndf['model']==m)&(nndf['seed']==s), 'target'],\n",
    "             nndf.loc[(nndf['model']==m)&(nndf['seed']==s), 'prediction'],\n",
    "             labels=categories\n",
    "             )\n",
    "        for m in models}\n",
    "    for s in seeds}\n",
    "\n",
    "\n",
    "# make the correlation df: seed-level models v humans\n",
    "seed_corr_df = pd.DataFrame({\n",
    "    m: [pearsonr(\n",
    "        rollout_matrix(hcm),\n",
    "        rollout_matrix(seeds[s][m]))[0]\n",
    "        for s in seeds]\n",
    "        for m in models\n",
    "})\n",
    "\n",
    "# also check correlations across models\n",
    "nn_corr_dict = {\n",
    "    m1: {m2: [pearsonr(\n",
    "        rollout_matrix(seeds[s][m1]),\n",
    "        rollout_matrix(seeds[s][m2]))[0]\n",
    "        for s in seeds]\n",
    "        for m2 in models}\n",
    "        for m1 in models\n",
    "}\n",
    "# make a matrix out of it, to plot it later\n",
    "averages = []\n",
    "# Iterate through the main dictionary\n",
    "for outer_key, inner_dict in nn_corr_dict.items():\n",
    "    avg_inner = []  # Store the averages for each inner dictionary\n",
    "    # Iterate through the inner dictionary\n",
    "    for key, value in inner_dict.items():\n",
    "        avg = np.mean(value)  # Calculate the average of the vector\n",
    "        avg_inner.append(avg)\n",
    "    averages.append(avg_inner)\n",
    "\n",
    "# Convert the list of averages into a matrix\n",
    "matrix = np.array(averages)"
   ]
  },
  {
   "cell_type": "markdown",
   "metadata": {},
   "source": [
    "Print the resulting correlations between humans and models."
   ]
  },
  {
   "cell_type": "code",
   "execution_count": 13,
   "metadata": {},
   "outputs": [
    {
     "name": "stdout",
     "output_type": "stream",
     "text": [
      "The confusion matrix of C has a 0.35 correlation with that of humans.\n",
      "The confusion matrix of C V1-V1 has a 0.34 correlation with that of humans.\n",
      "The confusion matrix of C IT-IT has a 0.33 correlation with that of humans.\n",
      "The confusion matrix of CL has a 0.28 correlation with that of humans.\n",
      "The confusion matrix of CT has a 0.17 correlation with that of humans.\n",
      "The confusion matrix of CLT has a 0.16 correlation with that of humans.\n",
      "The confusion matrix of CS has a 0.08 correlation with that of humans.\n",
      "The confusion matrix of B has a 0.24 correlation with that of humans.\n",
      "The confusion matrix of BL has a 0.11 correlation with that of humans.\n",
      "The confusion matrix of BT has a 0.15 correlation with that of humans.\n",
      "The confusion matrix of BLT has a 0.12 correlation with that of humans.\n",
      "The confusion matrix of VGG11 has a 0.38 correlation with that of humans.\n",
      "The confusion matrix of VGG16 has a 0.42 correlation with that of humans.\n",
      "\n",
      "On average, models have a 0.24 correlation with human confusion matrix.\n"
     ]
    }
   ],
   "source": [
    "# print some results\n",
    "for m in models:\n",
    "    print(f'The confusion matrix of {models_names[m]} has a {np.round(seed_corr_df[m].mean(), 2)} correlation with that of humans.')\n",
    "# print the grand average\n",
    "print(f'\\nOn average, models have a {np.round(np.mean(seed_corr_df.mean()), 2)} correlation with human confusion matrix.')"
   ]
  },
  {
   "cell_type": "markdown",
   "metadata": {},
   "source": [
    "**Participant-wise correation matrix**. Having calculated seed-wise correlations between models and humans, we take a more conservative approach and calculate participant-level correlations. With one value per participant, we build confidence intervals around the mean correlation of each model, allowing for stronger comparisons across models."
   ]
  },
  {
   "cell_type": "code",
   "execution_count": 31,
   "metadata": {},
   "outputs": [],
   "source": [
    "# build the participant-wise model confusion matrices\n",
    "mcms = {\n",
    "    m: confusion_matrix(\n",
    "            y_true = nndf.loc[nndf['model']==m, 'target'],\n",
    "            y_pred = nndf.loc[nndf['model']==m, 'prediction'],\n",
    "            labels = categories\n",
    "        )\n",
    "    for m in models\n",
    "}\n",
    "\n",
    "# extract participant numbers\n",
    "participants = hdf['subj'].unique()\n",
    "\n",
    "# make a dictionary to hold onto the values\n",
    "corrdict = {m: [] for m in models}\n",
    "# loop through participants\n",
    "for i in participants:\n",
    "    # extract the true and predicted category labels \n",
    "    y_true = hdf.loc[hdf['subj']==i, 'category']\n",
    "    y_pred = hdf.loc[hdf['subj']==i, 'prediction']\n",
    "    # build the participant confusion matrix\n",
    "    hcm = confusion_matrix(y_true = y_true, y_pred = y_pred, labels = categories)\n",
    "    # correlate it with each model's CM\n",
    "    for m in models:\n",
    "        # extract the CM of the model\n",
    "        mcm = mcms[m]\n",
    "        # correlate the two CMs\n",
    "        corr = pearsonr(rollout_matrix(hcm), rollout_matrix(mcm))[0]\n",
    "        # append the results to the correlation dictionary\n",
    "        corrdict[m].append(corr)"
   ]
  },
  {
   "cell_type": "markdown",
   "metadata": {},
   "source": [
    "Print out the 95% confidence intervals built from participant-wise confusion matrix correlations."
   ]
  },
  {
   "cell_type": "code",
   "execution_count": 37,
   "metadata": {},
   "outputs": [
    {
     "name": "stdout",
     "output_type": "stream",
     "text": [
      "C has a participant-wise CM correlation of 0.11 with CI boundaries [0.09, 0.13]\n",
      "C V1-V1 has a participant-wise CM correlation of 0.12 with CI boundaries [0.1, 0.14]\n",
      "C IT-IT has a participant-wise CM correlation of 0.12 with CI boundaries [0.1, 0.14]\n",
      "CL has a participant-wise CM correlation of 0.12 with CI boundaries [0.1, 0.14]\n",
      "CT has a participant-wise CM correlation of 0.07 with CI boundaries [0.06, 0.09]\n",
      "CLT has a participant-wise CM correlation of 0.06 with CI boundaries [0.05, 0.08]\n",
      "CS has a participant-wise CM correlation of 0.04 with CI boundaries [0.03, 0.06]\n",
      "B has a participant-wise CM correlation of 0.1 with CI boundaries [0.08, 0.12]\n",
      "BL has a participant-wise CM correlation of 0.06 with CI boundaries [0.05, 0.08]\n",
      "BT has a participant-wise CM correlation of 0.07 with CI boundaries [0.05, 0.09]\n",
      "BLT has a participant-wise CM correlation of 0.07 with CI boundaries [0.05, 0.08]\n",
      "VGG11 has a participant-wise CM correlation of 0.14 with CI boundaries [0.12, 0.16]\n",
      "VGG16 has a participant-wise CM correlation of 0.15 with CI boundaries [0.13, 0.18]\n"
     ]
    }
   ],
   "source": [
    "# Extract the CI boundary values\n",
    "ci_boundaries = {\n",
    "    m: DescrStatsW(corrdict[m]).tconfint_mean() for m in models\n",
    "}\n",
    "# print the results\n",
    "for m in models:\n",
    "    print(f'{models_names[m]} has a participant-wise CM correlation of {np.round(np.mean(corrdict[m]), 2)} with CI boundaries ' +\n",
    "        f'[{np.round(ci_boundaries[m][0], 2)}, {np.round(ci_boundaries[m][1], 2)}]')"
   ]
  },
  {
   "cell_type": "markdown",
   "metadata": {},
   "source": [
    "### Plots\n",
    "\n",
    "Here we reproduce the plots shown in the results section _Depth, not recurrence, makes model mistakes more human-like_. First we plot the seed-wise model confusion matrix correlations, then we plot the participant-wise model confusion matrix correlations."
   ]
  },
  {
   "cell_type": "code",
   "execution_count": 71,
   "metadata": {},
   "outputs": [
    {
     "name": "stderr",
     "output_type": "stream",
     "text": [
      "/Library/Frameworks/Python.framework/Versions/3.10/lib/python3.10/site-packages/seaborn/categorical.py:82: FutureWarning: iteritems is deprecated and will be removed in a future version. Use .items instead.\n",
      "  plot_data = [np.asarray(s, float) for k, s in iter_data]\n"
     ]
    },
    {
     "data": {
      "image/png": "[encoded data removed]",
      "text/plain": [
       "<Figure size 576x288 with 1 Axes>"
      ]
     },
     "metadata": {
      "needs_background": "light"
     },
     "output_type": "display_data"
    }
   ],
   "source": [
    "# make the model confusion matrix correlation barplot\n",
    "# this graph is made vertically in the paper. it's horizontal here for more readability\n",
    "fig, axes = plt.subplots(1, 1, figsize = (8, 4))\n",
    "axes.locator_params(axis = 'y', nbins=5)\n",
    "\n",
    "# make the barplot\n",
    "corr_plot = sns.barplot(\n",
    "    data = seed_corr_df,\n",
    "    ax = axes,\n",
    "    palette = models_palette,\n",
    "    order = models,\n",
    "    errwidth = 1.2,\n",
    ")\n",
    "for bar in corr_plot.patches:\n",
    "    bar.set_linewidth(0.6)\n",
    "    bar.set_edgecolor('gray')\n",
    "# corr_plot.set(ylabel = None, xlabel = None, yticks = None)\n",
    "axes.set_xticklabels(models_names.values(), rotation = 70)\n",
    "plt.tick_params(left = True, bottom=False)\n",
    "\n",
    "# give a title to the plot\n",
    "plt.title('Model correlation with human confusion matrix')\n",
    "\n",
    "# remove the top and right axes\n",
    "axes.spines['top'].set_visible(False)\n",
    "axes.spines['right'].set_visible(False)"
   ]
  },
  {
   "cell_type": "code",
   "execution_count": 55,
   "metadata": {},
   "outputs": [
    {
     "name": "stderr",
     "output_type": "stream",
     "text": [
      "/Library/Frameworks/Python.framework/Versions/3.10/lib/python3.10/site-packages/seaborn/categorical.py:82: FutureWarning: iteritems is deprecated and will be removed in a future version. Use .items instead.\n",
      "  plot_data = [np.asarray(s, float) for k, s in iter_data]\n"
     ]
    },
    {
     "data": {
      "image/png": "[encoded data removed]",
      "text/plain": [
       "<Figure size 576x504 with 1 Axes>"
      ]
     },
     "metadata": {
      "needs_background": "light"
     },
     "output_type": "display_data"
    }
   ],
   "source": [
    "# plot the participant-wise model CM correlation\n",
    "fig, ax = plt.subplots(1, 1, figsize = (8, 7))\n",
    "plt.locator_params(axis = 'y', nbins=2)\n",
    "\n",
    "# declare some annotation details to draw model bars on top of the graph\n",
    "height = 0.01\n",
    "cornets = {'x_start': -0.4, 'width': 6.8, 'colour': '#EAADC1', 'text': 'CORnet'}\n",
    "bnets = {'x_start': 6.4, 'width': 4.0, 'colour': '#6CBAEF', 'text': 'Bnet'}\n",
    "vggs = {'x_start': 10.4, 'width': 2.0, 'colour': '#53B46F', 'text': 'VGG'}\n",
    "\n",
    "# make the point plot\n",
    "pointplot = sns.pointplot(\n",
    "    data = pd.DataFrame(corrdict),\n",
    "    ax = ax,\n",
    "    palette = models_palette,\n",
    "    join = False,\n",
    "    errwidth = 1.2,\n",
    "    capsize = 0.02,\n",
    "    errorbar=('ci', 95),\n",
    ")\n",
    "# set the axes\n",
    "plt.xticks(rotation = 70)\n",
    "ax.set_ylim(0.0, 0.2)\n",
    "ax.set_xticklabels([])\n",
    "ax.set_xticks([])\n",
    "\n",
    "# add coloured rectangles\n",
    "y_start = max(ax.get_ylim()) - 0.01 # find the y coordinate to set the bars\n",
    "for family in [cornets, bnets, vggs]:\n",
    "    ax.add_patch(patches.Rectangle(\n",
    "        (family['x_start'], y_start), family['width'], height,\n",
    "        facecolor = family['colour'],\n",
    "        fill=True,\n",
    "        alpha = 0.8,\n",
    "        clip_on = False)\n",
    "    )\n",
    "    ax.annotate(\n",
    "        family['text'], # family name\n",
    "        (np.mean([family['x_start'], family['x_start']+family['width']]), y_start - 0.005), # in the middle of the range\n",
    "        annotation_clip = False,\n",
    "        ha='center',\n",
    "    )\n",
    "    \n",
    "# add a legend with model colour\n",
    "legend_handles = []\n",
    "for model in models_names:\n",
    "    legend_handles.append(plt.Line2D([0], [0], marker='o', color='w', markerfacecolor=models_palette[model], markersize=10, label=models_names[model]))\n",
    "\n",
    "# add the legend with custom handles\n",
    "ax.legend(handles=legend_handles, frameon = False, bbox_to_anchor=(1.05, 1))\n",
    "\n",
    "# give a title to the plot\n",
    "plt.title('Participant-wise model correlation with human confusion matrix')\n",
    "\n",
    "# remove the top and right axes\n",
    "ax.spines['top'].set_visible(False)\n",
    "ax.spines['right'].set_visible(False)"
   ]
  }
 ],
 "metadata": {
  "kernelspec": {
   "display_name": "Python 3",
   "language": "python",
   "name": "python3"
  },
  "language_info": {
   "codemirror_mode": {
    "name": "ipython",
    "version": 3
   },
   "file_extension": ".py",
   "mimetype": "text/x-python",
   "name": "python",
   "nbconvert_exporter": "python",
   "pygments_lexer": "ipython3",
   "version": "3.10.5"
  }
 },
 "nbformat": 4,
 "nbformat_minor": 2
}
