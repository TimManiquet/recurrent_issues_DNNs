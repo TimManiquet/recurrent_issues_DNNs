{
 "cells": [
  {
   "cell_type": "markdown",
   "metadata": {},
   "source": [
    "## Analysing human behaviour: RT & masking effect\n",
    "\n",
    "This notebook reproduces the correlation analysis between average RT and masking effect from _Visual manipulations trigger recurrent processing_."
   ]
  },
  {
   "cell_type": "markdown",
   "metadata": {},
   "source": [
    "### Correlating RT and masking effect\n",
    "\n",
    "To go further in accounting for the need of recurrent processing in our manipulations, we correlate average reaction time and masking effect per task.\n",
    "\n",
    "We divide the dataset into 17 tasks (control condition plus each level of each manipulation). For each task we calculate an **average RT** across masking levels and a **masking effect** as the difference in average accuracy _with_ and _without_ masking."
   ]
  },
  {
   "cell_type": "code",
   "execution_count": 10,
   "metadata": {},
   "outputs": [],
   "source": [
    "## preamble\n",
    "\n",
    "# packages\n",
    "import numpy as np\n",
    "import pandas as pd\n",
    "from scipy.stats import pearsonr\n",
    "import matplotlib.pyplot as plt\n",
    "import seaborn as sns\n",
    "import json\n",
    "\n",
    "# define some labels for the plots\n",
    "tasks_names = {'scrambling_lowpass': 'Low pass', 'occlusion_many_small_partial_viewing_high': 'MS occluder high'}"
   ]
  },
  {
   "cell_type": "code",
   "execution_count": 2,
   "metadata": {},
   "outputs": [],
   "source": [
    "# read the data\n",
    "df = pd.read_csv('../data/human_data.csv')"
   ]
  },
  {
   "cell_type": "code",
   "execution_count": 3,
   "metadata": {},
   "outputs": [],
   "source": [
    "# start by defining the 17 tasks\n",
    "tasks = ['control', 'clutter_light', 'clutter_heavy', 'scrambling_highpass', 'scrambling_lowpass', 'occlusion_few_large_deletion_low', 'occlusion_few_large_deletion_high', 'occlusion_few_large_partial_viewing_low', 'occlusion_few_large_partial_viewing_high', 'occlusion_few_large_blobs_high', 'occlusion_few_large_blobs_low', 'occlusion_many_small_deletion_low', 'occlusion_many_small_deletion_high', 'occlusion_many_small_blobs_low', 'occlusion_many_small_blobs_high', 'occlusion_many_small_partial_viewing_low', 'occlusion_many_small_partial_viewing_high']"
   ]
  },
  {
   "cell_type": "code",
   "execution_count": 7,
   "metadata": {},
   "outputs": [],
   "source": [
    "# build a df with average RT and masking effect per task\n",
    "mask_rt_df = pd.DataFrame({\n",
    "    'task' : [t for t in tasks],\n",
    "    'masking effect': [np.mean(df.loc[(df['task']==t) & (df['mask']=='no mask'), 'acc'])\n",
    "                                - np.mean(df.loc[(df['task']==t) & (df['mask']=='mask'), 'acc'])\n",
    "                       for t in tasks],\n",
    "    'RT' : [np.mean(df.loc[(df['task']==t), 'rt']) for t in tasks]\n",
    "})"
   ]
  },
  {
   "cell_type": "code",
   "execution_count": 8,
   "metadata": {},
   "outputs": [
    {
     "name": "stdout",
     "output_type": "stream",
     "text": [
      "Average RT and masking effect have a pearson's R correlation of 0.9235185812033688.\n",
      "\n",
      "Without outliers, this value remains of 0.8568756743704522.\n"
     ]
    }
   ],
   "source": [
    "# correlate the results\n",
    "corr, p_value = pearsonr(mask_rt_df['RT'].values, mask_rt_df['masking effect'].values)\n",
    "# print the results\n",
    "print(f'Average RT and masking effect have a pearson\\'s R correlation of {corr}.')\n",
    "\n",
    "# confirm the results without outliers\n",
    "no_outliers = mask_rt_df.drop(\n",
    "    mask_rt_df.loc[mask_rt_df['task'].isin(\n",
    "        ['scrambling_lowpass', # we remove the two extreme conditions\n",
    "         'occlusion_many_small_partial_viewing_high'])\n",
    "                   ].index)\n",
    "corr, p_value = pearsonr(no_outliers['RT'].values, no_outliers['masking effect'].values)\n",
    "\n",
    "# print the results\n",
    "print(f'\\nWithout outliers, this value remains of {corr}.')"
   ]
  },
  {
   "cell_type": "markdown",
   "metadata": {},
   "source": [
    "### Plot\n",
    "\n",
    "This section reproduces the plots linked to the correlation between average RT and masking effect."
   ]
  },
  {
   "cell_type": "code",
   "execution_count": 27,
   "metadata": {},
   "outputs": [
    {
     "data": {
      "image/png": "[encoded data removed]",
      "text/plain": [
       "<Figure size 576x576 with 1 Axes>"
      ]
     },
     "metadata": {
      "needs_background": "light"
     },
     "output_type": "display_data"
    }
   ],
   "source": [
    "# make a scatter plot of RT x masking effect\n",
    "f, ax = plt.subplots(figsize = (8.0, 8.0))\n",
    "\n",
    "plt.locator_params(axis = 'y', nbins=4)\n",
    "plt.locator_params(axis = 'x', nbins=3)\n",
    "\n",
    "scatplot = sns.regplot(\n",
    "    data = mask_rt_df,\n",
    "    x = 'masking effect',\n",
    "    y = 'RT',\n",
    "    ci = None,\n",
    "    scatter_kws={\"color\": \"gray\"}, line_kws={\"color\": '#1670B0'},\n",
    "    ax = ax\n",
    ")\n",
    "plt.setp(scatplot.collections, clip_on=False)\n",
    "scatplot.set(xlabel = 'Masking effect', ylabel = 'Average RT (ms)')\n",
    "ax.set_xlim(-0.02, 0.2)  # Adjust the limits as needed\n",
    "\n",
    "# annotating the outliers: \n",
    "# x0, y0 are the coordinates of the start of the bar\n",
    "# x1, y1 are the increments from x0, y0 to the end of the bar\n",
    "# x2, y2 are the increments from x1, y1 to place the text labels\n",
    "outliers = {\n",
    "    'occlusion_many_small_partial_viewing_high' : {'x0': -0.002, 'y0': -13.0, 'x1':-0.02,'y1': -130.0, 'x2':-0.03,'y2': -15.0},\n",
    "    'scrambling_lowpass' :  {'x0': -0.01, 'y0': 5.0, 'x1':- 0.03,'y1': 20.0, 'x2':- 0.025,'y2': 5.0},\n",
    "}\n",
    "for k, v in outliers.items():\n",
    "    # find the coordinates\n",
    "    x0 = mask_rt_df.loc[mask_rt_df['task']==k, 'masking effect'].values[0] + v['x0']\n",
    "    y0 = mask_rt_df.loc[mask_rt_df['task']==k, 'RT'].values[0] + v['y0']\n",
    "    # draw a line\n",
    "    x1, y1 = x0 + v['x1'], y0 + v['y1']\n",
    "    ax.plot([x0, x1], [y0, y1], linewidth = 0.75, color='lightGray', ls='-', zorder=0, clip_on = False)\n",
    "    # write the name of the tasks\n",
    "    ax.annotate(\n",
    "        tasks_names[k], (x1 + v['x2'], y1 + v['y2']),\n",
    "        annotation_clip=False, ha='left',\n",
    "        style = 'italic', fontsize = 8.0, color = 'gray',\n",
    "    )\n",
    "# remove the top and right sides of the frame\n",
    "ax.spines['top'].set_visible(False)\n",
    "ax.spines['right'].set_visible(False)\n",
    "\n",
    "# give a title to the plot\n",
    "plt.title('Scatter plot of average RT per masking effect')"
   ]
  },
  {
   "cell_type": "code",
   "execution_count": null,
   "metadata": {},
   "outputs": [],
   "source": []
  }
 ],
 "metadata": {
  "kernelspec": {
   "display_name": "Python 3",
   "language": "python",
   "name": "python3"
  },
  "language_info": {
   "codemirror_mode": {
    "name": "ipython",
    "version": 3
   },
   "file_extension": ".py",
   "mimetype": "text/x-python",
   "name": "python",
   "nbconvert_exporter": "python",
   "pygments_lexer": "ipython3",
   "version": "3.10.5"
  }
 },
 "nbformat": 4,
 "nbformat_minor": 2
}
